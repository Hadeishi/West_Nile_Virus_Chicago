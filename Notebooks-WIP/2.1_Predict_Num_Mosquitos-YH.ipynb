{
 "cells": [
  {
   "cell_type": "markdown",
   "metadata": {},
   "source": [
    "# Predict Num_Mosquitos"
   ]
  },
  {
   "cell_type": "markdown",
   "metadata": {},
   "source": [
    "#### Key variable missing from test data:  the number of mosquitos. To predict the number of mosquitos for this test data, we decided to create a model to predict the number of mosquitos using our train data.\n",
    "#### First, define new y, NumMosquitos. Then, use rest of variables to predict for first pass. Expert knowledge might come in handy to reduce features if model is overfit."
   ]
  },
  {
   "cell_type": "code",
   "execution_count": 98,
   "metadata": {},
   "outputs": [],
   "source": [
    "import pandas as pd\n",
    "import numpy as np\n",
    "import matplotlib.pyplot as plt\n",
    "import seaborn as sns\n",
    "import pickle\n",
    "%matplotlib inline\n",
    "\n",
    "from sklearn.linear_model import LogisticRegression, LinearRegression, LassoCV, RidgeCV, ElasticNetCV\n",
    "from sklearn.model_selection import train_test_split\n",
    "from sklearn.ensemble import RandomForestRegressor\n",
    "from sklearn.metrics import confusion_matrix, r2_score, mean_squared_error, roc_auc_score\n",
    "from sklearn.preprocessing import StandardScaler\n",
    "\n",
    "from keras.models import Sequential\n",
    "from keras.layers import Dense, Dropout\n",
    "from keras.utils import to_categorical\n",
    "from keras.optimizers import Adam"
   ]
  },
  {
   "cell_type": "markdown",
   "metadata": {},
   "source": [
    "#### Import Scaled Split Data"
   ]
  },
  {
   "cell_type": "code",
   "execution_count": 99,
   "metadata": {},
   "outputs": [],
   "source": [
    "with open('../Cleansed_Data/X.pkl','rb') as f:\n",
    "    X = pickle.load(f)\n",
    "\n",
    "y = X.NumMosquitos\n",
    "X.drop('NumMosquitos', 1, inplace=True)"
   ]
  },
  {
   "cell_type": "code",
   "execution_count": 100,
   "metadata": {},
   "outputs": [
    {
     "data": {
      "text/html": [
       "<div>\n",
       "<style scoped>\n",
       "    .dataframe tbody tr th:only-of-type {\n",
       "        vertical-align: middle;\n",
       "    }\n",
       "\n",
       "    .dataframe tbody tr th {\n",
       "        vertical-align: top;\n",
       "    }\n",
       "\n",
       "    .dataframe thead th {\n",
       "        text-align: right;\n",
       "    }\n",
       "</style>\n",
       "<table border=\"1\" class=\"dataframe\">\n",
       "  <thead>\n",
       "    <tr style=\"text-align: right;\">\n",
       "      <th></th>\n",
       "      <th>Latitude</th>\n",
       "      <th>Longitude</th>\n",
       "      <th>BR</th>\n",
       "      <th>HZ</th>\n",
       "      <th>RA</th>\n",
       "      <th>TSRA</th>\n",
       "      <th>VCTS</th>\n",
       "      <th>FU</th>\n",
       "      <th>TS</th>\n",
       "      <th>DZ</th>\n",
       "      <th>...</th>\n",
       "      <th>Month_08</th>\n",
       "      <th>Month_09</th>\n",
       "      <th>Month_10</th>\n",
       "      <th>Species_CULEX ERRATICUS</th>\n",
       "      <th>Species_CULEX PIPIENS</th>\n",
       "      <th>Species_CULEX PIPIENS/RESTUANS</th>\n",
       "      <th>Species_CULEX RESTUANS</th>\n",
       "      <th>Species_CULEX SALINARIUS</th>\n",
       "      <th>Species_CULEX TARSALIS</th>\n",
       "      <th>Species_CULEX TERRITANS</th>\n",
       "    </tr>\n",
       "  </thead>\n",
       "  <tbody>\n",
       "    <tr>\n",
       "      <th>0</th>\n",
       "      <td>41.954690</td>\n",
       "      <td>-87.800991</td>\n",
       "      <td>1</td>\n",
       "      <td>1</td>\n",
       "      <td>0</td>\n",
       "      <td>0</td>\n",
       "      <td>0</td>\n",
       "      <td>0</td>\n",
       "      <td>0</td>\n",
       "      <td>0</td>\n",
       "      <td>...</td>\n",
       "      <td>0</td>\n",
       "      <td>0</td>\n",
       "      <td>0</td>\n",
       "      <td>0</td>\n",
       "      <td>0</td>\n",
       "      <td>1</td>\n",
       "      <td>0</td>\n",
       "      <td>0</td>\n",
       "      <td>0</td>\n",
       "      <td>0</td>\n",
       "    </tr>\n",
       "    <tr>\n",
       "      <th>1</th>\n",
       "      <td>41.954690</td>\n",
       "      <td>-87.800991</td>\n",
       "      <td>1</td>\n",
       "      <td>1</td>\n",
       "      <td>0</td>\n",
       "      <td>0</td>\n",
       "      <td>0</td>\n",
       "      <td>0</td>\n",
       "      <td>0</td>\n",
       "      <td>0</td>\n",
       "      <td>...</td>\n",
       "      <td>0</td>\n",
       "      <td>0</td>\n",
       "      <td>0</td>\n",
       "      <td>0</td>\n",
       "      <td>0</td>\n",
       "      <td>0</td>\n",
       "      <td>1</td>\n",
       "      <td>0</td>\n",
       "      <td>0</td>\n",
       "      <td>0</td>\n",
       "    </tr>\n",
       "    <tr>\n",
       "      <th>2</th>\n",
       "      <td>41.994991</td>\n",
       "      <td>-87.769279</td>\n",
       "      <td>1</td>\n",
       "      <td>1</td>\n",
       "      <td>0</td>\n",
       "      <td>0</td>\n",
       "      <td>0</td>\n",
       "      <td>0</td>\n",
       "      <td>0</td>\n",
       "      <td>0</td>\n",
       "      <td>...</td>\n",
       "      <td>0</td>\n",
       "      <td>0</td>\n",
       "      <td>0</td>\n",
       "      <td>0</td>\n",
       "      <td>0</td>\n",
       "      <td>0</td>\n",
       "      <td>1</td>\n",
       "      <td>0</td>\n",
       "      <td>0</td>\n",
       "      <td>0</td>\n",
       "    </tr>\n",
       "    <tr>\n",
       "      <th>3</th>\n",
       "      <td>41.974089</td>\n",
       "      <td>-87.824812</td>\n",
       "      <td>1</td>\n",
       "      <td>1</td>\n",
       "      <td>0</td>\n",
       "      <td>0</td>\n",
       "      <td>0</td>\n",
       "      <td>0</td>\n",
       "      <td>0</td>\n",
       "      <td>0</td>\n",
       "      <td>...</td>\n",
       "      <td>0</td>\n",
       "      <td>0</td>\n",
       "      <td>0</td>\n",
       "      <td>0</td>\n",
       "      <td>0</td>\n",
       "      <td>1</td>\n",
       "      <td>0</td>\n",
       "      <td>0</td>\n",
       "      <td>0</td>\n",
       "      <td>0</td>\n",
       "    </tr>\n",
       "    <tr>\n",
       "      <th>4</th>\n",
       "      <td>41.974089</td>\n",
       "      <td>-87.824812</td>\n",
       "      <td>1</td>\n",
       "      <td>1</td>\n",
       "      <td>0</td>\n",
       "      <td>0</td>\n",
       "      <td>0</td>\n",
       "      <td>0</td>\n",
       "      <td>0</td>\n",
       "      <td>0</td>\n",
       "      <td>...</td>\n",
       "      <td>0</td>\n",
       "      <td>0</td>\n",
       "      <td>0</td>\n",
       "      <td>0</td>\n",
       "      <td>0</td>\n",
       "      <td>0</td>\n",
       "      <td>1</td>\n",
       "      <td>0</td>\n",
       "      <td>0</td>\n",
       "      <td>0</td>\n",
       "    </tr>\n",
       "  </tbody>\n",
       "</table>\n",
       "<p>5 rows × 40 columns</p>\n",
       "</div>"
      ],
      "text/plain": [
       "    Latitude  Longitude  BR  HZ  RA  TSRA  VCTS  FU  TS  DZ  \\\n",
       "0  41.954690 -87.800991   1   1   0     0     0   0   0   0   \n",
       "1  41.954690 -87.800991   1   1   0     0     0   0   0   0   \n",
       "2  41.994991 -87.769279   1   1   0     0     0   0   0   0   \n",
       "3  41.974089 -87.824812   1   1   0     0     0   0   0   0   \n",
       "4  41.974089 -87.824812   1   1   0     0     0   0   0   0   \n",
       "\n",
       "            ...             Month_08  Month_09  Month_10  \\\n",
       "0           ...                    0         0         0   \n",
       "1           ...                    0         0         0   \n",
       "2           ...                    0         0         0   \n",
       "3           ...                    0         0         0   \n",
       "4           ...                    0         0         0   \n",
       "\n",
       "   Species_CULEX ERRATICUS  Species_CULEX PIPIENS  \\\n",
       "0                        0                      0   \n",
       "1                        0                      0   \n",
       "2                        0                      0   \n",
       "3                        0                      0   \n",
       "4                        0                      0   \n",
       "\n",
       "   Species_CULEX PIPIENS/RESTUANS  Species_CULEX RESTUANS  \\\n",
       "0                               1                       0   \n",
       "1                               0                       1   \n",
       "2                               0                       1   \n",
       "3                               1                       0   \n",
       "4                               0                       1   \n",
       "\n",
       "   Species_CULEX SALINARIUS  Species_CULEX TARSALIS  Species_CULEX TERRITANS  \n",
       "0                         0                       0                        0  \n",
       "1                         0                       0                        0  \n",
       "2                         0                       0                        0  \n",
       "3                         0                       0                        0  \n",
       "4                         0                       0                        0  \n",
       "\n",
       "[5 rows x 40 columns]"
      ]
     },
     "execution_count": 100,
     "metadata": {},
     "output_type": "execute_result"
    }
   ],
   "source": [
    "X.head()"
   ]
  },
  {
   "cell_type": "code",
   "execution_count": 101,
   "metadata": {},
   "outputs": [],
   "source": [
    "# Train test split\n",
    "X_train, X_test, y_train, y_test = train_test_split(X, y)"
   ]
  },
  {
   "cell_type": "code",
   "execution_count": 102,
   "metadata": {},
   "outputs": [],
   "source": [
    "ss = StandardScaler()\n",
    "\n",
    "X_train_sc = ss.fit_transform(X_train)\n",
    "X_test_sc = ss.transform(X_test)"
   ]
  },
  {
   "cell_type": "markdown",
   "metadata": {},
   "source": [
    "# Linear Regression to predict NumMosquitos: "
   ]
  },
  {
   "cell_type": "code",
   "execution_count": 103,
   "metadata": {},
   "outputs": [],
   "source": [
    "linreg = LinearRegression()"
   ]
  },
  {
   "cell_type": "code",
   "execution_count": 104,
   "metadata": {},
   "outputs": [
    {
     "data": {
      "text/plain": [
       "LinearRegression(copy_X=True, fit_intercept=True, n_jobs=1, normalize=False)"
      ]
     },
     "execution_count": 104,
     "metadata": {},
     "output_type": "execute_result"
    }
   ],
   "source": [
    "linreg.fit(X_train_sc, y_train)"
   ]
  },
  {
   "cell_type": "code",
   "execution_count": 105,
   "metadata": {},
   "outputs": [
    {
     "data": {
      "text/plain": [
       "array([-524.6201243 , -563.33873813, -495.10295931, ..., -476.24131746,\n",
       "       -556.80618139, -576.73819881])"
      ]
     },
     "execution_count": 105,
     "metadata": {},
     "output_type": "execute_result"
    }
   ],
   "source": [
    "linreg.predict(X_train)"
   ]
  },
  {
   "cell_type": "code",
   "execution_count": 106,
   "metadata": {},
   "outputs": [
    {
     "data": {
      "text/plain": [
       "0.17151234904357426"
      ]
     },
     "execution_count": 106,
     "metadata": {},
     "output_type": "execute_result"
    }
   ],
   "source": [
    "linreg.score(X_train_sc, y_train)"
   ]
  },
  {
   "cell_type": "code",
   "execution_count": 107,
   "metadata": {
    "scrolled": true
   },
   "outputs": [
    {
     "data": {
      "text/plain": [
       "0.1528937404398586"
      ]
     },
     "execution_count": 107,
     "metadata": {},
     "output_type": "execute_result"
    }
   ],
   "source": [
    "linreg.score(X_test_sc, y_test)"
   ]
  },
  {
   "cell_type": "code",
   "execution_count": 110,
   "metadata": {},
   "outputs": [
    {
     "name": "stdout",
     "output_type": "stream",
     "text": [
      "train scores:\n",
      "r2 score: 0.17632143497462316, MSE Score: 213.29142139488656\n",
      "test scores:\n",
      "r2 score: 0.15572316706614275, MSE Score: 223.07482646404017\n"
     ]
    }
   ],
   "source": [
    "#applying relu to predictions\n",
    "train_pred = [max(pred, 0) for pred in linreg.predict(X_train_sc)]\n",
    "test_pred = [max(pred, 0) for pred in linreg.predict(X_test_sc)]\n",
    "\n",
    "print(\"train scores:\")\n",
    "print(f\"r2 score: {r2_score(y_train, train_pred)}, MSE Score: {mean_squared_error(y_train, train_pred)}\")\n",
    "print(\"test scores:\")\n",
    "print(f\"r2 score: {r2_score(y_test, test_pred)}, MSE Score: {mean_squared_error(y_test, test_pred)}\")"
   ]
  },
  {
   "cell_type": "markdown",
   "metadata": {},
   "source": [
    "# Lasso"
   ]
  },
  {
   "cell_type": "code",
   "execution_count": 111,
   "metadata": {},
   "outputs": [],
   "source": [
    "lasso = LassoCV(max_iter=10000)"
   ]
  },
  {
   "cell_type": "code",
   "execution_count": 112,
   "metadata": {},
   "outputs": [
    {
     "data": {
      "text/plain": [
       "LassoCV(alphas=None, copy_X=True, cv=None, eps=0.001, fit_intercept=True,\n",
       "    max_iter=10000, n_alphas=100, n_jobs=1, normalize=False,\n",
       "    positive=False, precompute='auto', random_state=None,\n",
       "    selection='cyclic', tol=0.0001, verbose=False)"
      ]
     },
     "execution_count": 112,
     "metadata": {},
     "output_type": "execute_result"
    }
   ],
   "source": [
    "lasso.fit(X_train_sc, y_train)"
   ]
  },
  {
   "cell_type": "code",
   "execution_count": 113,
   "metadata": {},
   "outputs": [
    {
     "data": {
      "text/plain": [
       "0.0031487602318423084"
      ]
     },
     "execution_count": 113,
     "metadata": {},
     "output_type": "execute_result"
    }
   ],
   "source": [
    "lasso.alpha_"
   ]
  },
  {
   "cell_type": "code",
   "execution_count": 114,
   "metadata": {},
   "outputs": [
    {
     "data": {
      "text/plain": [
       "0.17138801358729117"
      ]
     },
     "execution_count": 114,
     "metadata": {},
     "output_type": "execute_result"
    }
   ],
   "source": [
    "lasso.score(X_train_sc, y_train)"
   ]
  },
  {
   "cell_type": "code",
   "execution_count": 115,
   "metadata": {
    "scrolled": true
   },
   "outputs": [
    {
     "data": {
      "text/plain": [
       "0.15325032802493344"
      ]
     },
     "execution_count": 115,
     "metadata": {},
     "output_type": "execute_result"
    }
   ],
   "source": [
    "lasso.score(X_test_sc, y_test)"
   ]
  },
  {
   "cell_type": "code",
   "execution_count": 116,
   "metadata": {},
   "outputs": [
    {
     "data": {
      "text/html": [
       "<div>\n",
       "<style scoped>\n",
       "    .dataframe tbody tr th:only-of-type {\n",
       "        vertical-align: middle;\n",
       "    }\n",
       "\n",
       "    .dataframe tbody tr th {\n",
       "        vertical-align: top;\n",
       "    }\n",
       "\n",
       "    .dataframe thead th {\n",
       "        text-align: right;\n",
       "    }\n",
       "</style>\n",
       "<table border=\"1\" class=\"dataframe\">\n",
       "  <thead>\n",
       "    <tr style=\"text-align: right;\">\n",
       "      <th></th>\n",
       "      <th>0</th>\n",
       "    </tr>\n",
       "  </thead>\n",
       "  <tbody>\n",
       "    <tr>\n",
       "      <th>DewPointC</th>\n",
       "      <td>11.301049</td>\n",
       "    </tr>\n",
       "    <tr>\n",
       "      <th>RA</th>\n",
       "      <td>3.672895</td>\n",
       "    </tr>\n",
       "    <tr>\n",
       "      <th>TSRA</th>\n",
       "      <td>3.100005</td>\n",
       "    </tr>\n",
       "    <tr>\n",
       "      <th>DZ</th>\n",
       "      <td>1.717642</td>\n",
       "    </tr>\n",
       "    <tr>\n",
       "      <th>ideal_environment</th>\n",
       "      <td>0.783425</td>\n",
       "    </tr>\n",
       "    <tr>\n",
       "      <th>Species_CULEX PIPIENS</th>\n",
       "      <td>0.570586</td>\n",
       "    </tr>\n",
       "    <tr>\n",
       "      <th>Month_07</th>\n",
       "      <td>0.527093</td>\n",
       "    </tr>\n",
       "    <tr>\n",
       "      <th>Month_08</th>\n",
       "      <td>0.121635</td>\n",
       "    </tr>\n",
       "    <tr>\n",
       "      <th>FG</th>\n",
       "      <td>0.102201</td>\n",
       "    </tr>\n",
       "    <tr>\n",
       "      <th>SN</th>\n",
       "      <td>0.000000</td>\n",
       "    </tr>\n",
       "    <tr>\n",
       "      <th>Species_CULEX ERRATICUS</th>\n",
       "      <td>0.000000</td>\n",
       "    </tr>\n",
       "    <tr>\n",
       "      <th>Month_06</th>\n",
       "      <td>-0.000000</td>\n",
       "    </tr>\n",
       "    <tr>\n",
       "      <th>TavgC</th>\n",
       "      <td>-0.000000</td>\n",
       "    </tr>\n",
       "    <tr>\n",
       "      <th>Species_CULEX PIPIENS/RESTUANS</th>\n",
       "      <td>0.000000</td>\n",
       "    </tr>\n",
       "    <tr>\n",
       "      <th>VCFG</th>\n",
       "      <td>0.000000</td>\n",
       "    </tr>\n",
       "    <tr>\n",
       "      <th>GR</th>\n",
       "      <td>0.000000</td>\n",
       "    </tr>\n",
       "    <tr>\n",
       "      <th>SQ</th>\n",
       "      <td>0.000000</td>\n",
       "    </tr>\n",
       "    <tr>\n",
       "      <th>FG+</th>\n",
       "      <td>0.000000</td>\n",
       "    </tr>\n",
       "    <tr>\n",
       "      <th>BCFG</th>\n",
       "      <td>0.000000</td>\n",
       "    </tr>\n",
       "    <tr>\n",
       "      <th>MIFG</th>\n",
       "      <td>0.000000</td>\n",
       "    </tr>\n",
       "    <tr>\n",
       "      <th>FU</th>\n",
       "      <td>0.000000</td>\n",
       "    </tr>\n",
       "    <tr>\n",
       "      <th>Species_CULEX TARSALIS</th>\n",
       "      <td>-0.199379</td>\n",
       "    </tr>\n",
       "    <tr>\n",
       "      <th>TS</th>\n",
       "      <td>-0.312828</td>\n",
       "    </tr>\n",
       "    <tr>\n",
       "      <th>photoperiod</th>\n",
       "      <td>-0.498470</td>\n",
       "    </tr>\n",
       "    <tr>\n",
       "      <th>BR</th>\n",
       "      <td>-0.501263</td>\n",
       "    </tr>\n",
       "    <tr>\n",
       "      <th>HZ</th>\n",
       "      <td>-0.533441</td>\n",
       "    </tr>\n",
       "    <tr>\n",
       "      <th>Month_05</th>\n",
       "      <td>-0.565841</td>\n",
       "    </tr>\n",
       "    <tr>\n",
       "      <th>Month_10</th>\n",
       "      <td>-0.685511</td>\n",
       "    </tr>\n",
       "    <tr>\n",
       "      <th>Species_CULEX SALINARIUS</th>\n",
       "      <td>-1.193069</td>\n",
       "    </tr>\n",
       "    <tr>\n",
       "      <th>ideal_feeding</th>\n",
       "      <td>-1.401649</td>\n",
       "    </tr>\n",
       "    <tr>\n",
       "      <th>VCTS</th>\n",
       "      <td>-1.661788</td>\n",
       "    </tr>\n",
       "    <tr>\n",
       "      <th>Species_CULEX TERRITANS</th>\n",
       "      <td>-1.937511</td>\n",
       "    </tr>\n",
       "    <tr>\n",
       "      <th>Month_09</th>\n",
       "      <td>-2.352465</td>\n",
       "    </tr>\n",
       "    <tr>\n",
       "      <th>Species_CULEX RESTUANS</th>\n",
       "      <td>-2.476815</td>\n",
       "    </tr>\n",
       "    <tr>\n",
       "      <th>Longitude</th>\n",
       "      <td>-3.049347</td>\n",
       "    </tr>\n",
       "    <tr>\n",
       "      <th>TminC</th>\n",
       "      <td>-3.603655</td>\n",
       "    </tr>\n",
       "    <tr>\n",
       "      <th>Latitude</th>\n",
       "      <td>-4.391493</td>\n",
       "    </tr>\n",
       "    <tr>\n",
       "      <th>rain</th>\n",
       "      <td>-4.912225</td>\n",
       "    </tr>\n",
       "    <tr>\n",
       "      <th>TmaxC</th>\n",
       "      <td>-4.955328</td>\n",
       "    </tr>\n",
       "    <tr>\n",
       "      <th>relative_humidity</th>\n",
       "      <td>-6.577765</td>\n",
       "    </tr>\n",
       "  </tbody>\n",
       "</table>\n",
       "</div>"
      ],
      "text/plain": [
       "                                        0\n",
       "DewPointC                       11.301049\n",
       "RA                               3.672895\n",
       "TSRA                             3.100005\n",
       "DZ                               1.717642\n",
       "ideal_environment                0.783425\n",
       "Species_CULEX PIPIENS            0.570586\n",
       "Month_07                         0.527093\n",
       "Month_08                         0.121635\n",
       "FG                               0.102201\n",
       "SN                               0.000000\n",
       "Species_CULEX ERRATICUS          0.000000\n",
       "Month_06                        -0.000000\n",
       "TavgC                           -0.000000\n",
       "Species_CULEX PIPIENS/RESTUANS   0.000000\n",
       "VCFG                             0.000000\n",
       "GR                               0.000000\n",
       "SQ                               0.000000\n",
       "FG+                              0.000000\n",
       "BCFG                             0.000000\n",
       "MIFG                             0.000000\n",
       "FU                               0.000000\n",
       "Species_CULEX TARSALIS          -0.199379\n",
       "TS                              -0.312828\n",
       "photoperiod                     -0.498470\n",
       "BR                              -0.501263\n",
       "HZ                              -0.533441\n",
       "Month_05                        -0.565841\n",
       "Month_10                        -0.685511\n",
       "Species_CULEX SALINARIUS        -1.193069\n",
       "ideal_feeding                   -1.401649\n",
       "VCTS                            -1.661788\n",
       "Species_CULEX TERRITANS         -1.937511\n",
       "Month_09                        -2.352465\n",
       "Species_CULEX RESTUANS          -2.476815\n",
       "Longitude                       -3.049347\n",
       "TminC                           -3.603655\n",
       "Latitude                        -4.391493\n",
       "rain                            -4.912225\n",
       "TmaxC                           -4.955328\n",
       "relative_humidity               -6.577765"
      ]
     },
     "execution_count": 116,
     "metadata": {},
     "output_type": "execute_result"
    }
   ],
   "source": [
    "pd.DataFrame(lasso.coef_, index=X.columns).sort_values(0, ascending=False)"
   ]
  },
  {
   "cell_type": "markdown",
   "metadata": {},
   "source": [
    "# Ridge"
   ]
  },
  {
   "cell_type": "code",
   "execution_count": 117,
   "metadata": {},
   "outputs": [],
   "source": [
    "ridge = RidgeCV()"
   ]
  },
  {
   "cell_type": "code",
   "execution_count": 118,
   "metadata": {},
   "outputs": [
    {
     "data": {
      "text/plain": [
       "RidgeCV(alphas=(0.1, 1.0, 10.0), cv=None, fit_intercept=True, gcv_mode=None,\n",
       "    normalize=False, scoring=None, store_cv_values=False)"
      ]
     },
     "execution_count": 118,
     "metadata": {},
     "output_type": "execute_result"
    }
   ],
   "source": [
    "ridge.fit(X_train_sc, y_train)"
   ]
  },
  {
   "cell_type": "code",
   "execution_count": 119,
   "metadata": {},
   "outputs": [
    {
     "data": {
      "text/plain": [
       "1.0"
      ]
     },
     "execution_count": 119,
     "metadata": {},
     "output_type": "execute_result"
    }
   ],
   "source": [
    "ridge.alpha_"
   ]
  },
  {
   "cell_type": "code",
   "execution_count": 120,
   "metadata": {},
   "outputs": [
    {
     "data": {
      "text/plain": [
       "0.17149295554088595"
      ]
     },
     "execution_count": 120,
     "metadata": {},
     "output_type": "execute_result"
    }
   ],
   "source": [
    "ridge.score(X_train_sc, y_train)"
   ]
  },
  {
   "cell_type": "code",
   "execution_count": 121,
   "metadata": {},
   "outputs": [
    {
     "data": {
      "text/plain": [
       "0.1530878550904735"
      ]
     },
     "execution_count": 121,
     "metadata": {},
     "output_type": "execute_result"
    }
   ],
   "source": [
    "ridge.score(X_test_sc, y_test)"
   ]
  },
  {
   "cell_type": "code",
   "execution_count": 122,
   "metadata": {},
   "outputs": [
    {
     "data": {
      "text/html": [
       "<div>\n",
       "<style scoped>\n",
       "    .dataframe tbody tr th:only-of-type {\n",
       "        vertical-align: middle;\n",
       "    }\n",
       "\n",
       "    .dataframe tbody tr th {\n",
       "        vertical-align: top;\n",
       "    }\n",
       "\n",
       "    .dataframe thead th {\n",
       "        text-align: right;\n",
       "    }\n",
       "</style>\n",
       "<table border=\"1\" class=\"dataframe\">\n",
       "  <thead>\n",
       "    <tr style=\"text-align: right;\">\n",
       "      <th></th>\n",
       "      <th>0</th>\n",
       "    </tr>\n",
       "  </thead>\n",
       "  <tbody>\n",
       "    <tr>\n",
       "      <th>DewPointC</th>\n",
       "      <td>13.874814</td>\n",
       "    </tr>\n",
       "    <tr>\n",
       "      <th>RA</th>\n",
       "      <td>3.776686</td>\n",
       "    </tr>\n",
       "    <tr>\n",
       "      <th>TSRA</th>\n",
       "      <td>3.135300</td>\n",
       "    </tr>\n",
       "    <tr>\n",
       "      <th>DZ</th>\n",
       "      <td>1.721530</td>\n",
       "    </tr>\n",
       "    <tr>\n",
       "      <th>Species_CULEX PIPIENS</th>\n",
       "      <td>1.381515</td>\n",
       "    </tr>\n",
       "    <tr>\n",
       "      <th>Month_07</th>\n",
       "      <td>1.044834</td>\n",
       "    </tr>\n",
       "    <tr>\n",
       "      <th>Species_CULEX PIPIENS/RESTUANS</th>\n",
       "      <td>0.926277</td>\n",
       "    </tr>\n",
       "    <tr>\n",
       "      <th>ideal_environment</th>\n",
       "      <td>0.785712</td>\n",
       "    </tr>\n",
       "    <tr>\n",
       "      <th>Month_08</th>\n",
       "      <td>0.662862</td>\n",
       "    </tr>\n",
       "    <tr>\n",
       "      <th>Month_06</th>\n",
       "      <td>0.427193</td>\n",
       "    </tr>\n",
       "    <tr>\n",
       "      <th>FG</th>\n",
       "      <td>0.076937</td>\n",
       "    </tr>\n",
       "    <tr>\n",
       "      <th>SN</th>\n",
       "      <td>0.000000</td>\n",
       "    </tr>\n",
       "    <tr>\n",
       "      <th>Species_CULEX ERRATICUS</th>\n",
       "      <td>0.000000</td>\n",
       "    </tr>\n",
       "    <tr>\n",
       "      <th>VCFG</th>\n",
       "      <td>0.000000</td>\n",
       "    </tr>\n",
       "    <tr>\n",
       "      <th>GR</th>\n",
       "      <td>0.000000</td>\n",
       "    </tr>\n",
       "    <tr>\n",
       "      <th>SQ</th>\n",
       "      <td>0.000000</td>\n",
       "    </tr>\n",
       "    <tr>\n",
       "      <th>FG+</th>\n",
       "      <td>0.000000</td>\n",
       "    </tr>\n",
       "    <tr>\n",
       "      <th>BCFG</th>\n",
       "      <td>0.000000</td>\n",
       "    </tr>\n",
       "    <tr>\n",
       "      <th>MIFG</th>\n",
       "      <td>0.000000</td>\n",
       "    </tr>\n",
       "    <tr>\n",
       "      <th>FU</th>\n",
       "      <td>0.000000</td>\n",
       "    </tr>\n",
       "    <tr>\n",
       "      <th>Species_CULEX TARSALIS</th>\n",
       "      <td>-0.159949</td>\n",
       "    </tr>\n",
       "    <tr>\n",
       "      <th>TS</th>\n",
       "      <td>-0.319938</td>\n",
       "    </tr>\n",
       "    <tr>\n",
       "      <th>TavgC</th>\n",
       "      <td>-0.324610</td>\n",
       "    </tr>\n",
       "    <tr>\n",
       "      <th>Month_05</th>\n",
       "      <td>-0.454183</td>\n",
       "    </tr>\n",
       "    <tr>\n",
       "      <th>BR</th>\n",
       "      <td>-0.489519</td>\n",
       "    </tr>\n",
       "    <tr>\n",
       "      <th>HZ</th>\n",
       "      <td>-0.506499</td>\n",
       "    </tr>\n",
       "    <tr>\n",
       "      <th>Month_10</th>\n",
       "      <td>-0.531136</td>\n",
       "    </tr>\n",
       "    <tr>\n",
       "      <th>photoperiod</th>\n",
       "      <td>-0.583228</td>\n",
       "    </tr>\n",
       "    <tr>\n",
       "      <th>Species_CULEX SALINARIUS</th>\n",
       "      <td>-1.029107</td>\n",
       "    </tr>\n",
       "    <tr>\n",
       "      <th>ideal_feeding</th>\n",
       "      <td>-1.405327</td>\n",
       "    </tr>\n",
       "    <tr>\n",
       "      <th>Species_CULEX RESTUANS</th>\n",
       "      <td>-1.655020</td>\n",
       "    </tr>\n",
       "    <tr>\n",
       "      <th>Species_CULEX TERRITANS</th>\n",
       "      <td>-1.677521</td>\n",
       "    </tr>\n",
       "    <tr>\n",
       "      <th>VCTS</th>\n",
       "      <td>-1.678977</td>\n",
       "    </tr>\n",
       "    <tr>\n",
       "      <th>Month_09</th>\n",
       "      <td>-1.949375</td>\n",
       "    </tr>\n",
       "    <tr>\n",
       "      <th>Longitude</th>\n",
       "      <td>-3.061304</td>\n",
       "    </tr>\n",
       "    <tr>\n",
       "      <th>Latitude</th>\n",
       "      <td>-4.401615</td>\n",
       "    </tr>\n",
       "    <tr>\n",
       "      <th>TminC</th>\n",
       "      <td>-4.575255</td>\n",
       "    </tr>\n",
       "    <tr>\n",
       "      <th>rain</th>\n",
       "      <td>-5.031661</td>\n",
       "    </tr>\n",
       "    <tr>\n",
       "      <th>TmaxC</th>\n",
       "      <td>-6.129132</td>\n",
       "    </tr>\n",
       "    <tr>\n",
       "      <th>relative_humidity</th>\n",
       "      <td>-7.903840</td>\n",
       "    </tr>\n",
       "  </tbody>\n",
       "</table>\n",
       "</div>"
      ],
      "text/plain": [
       "                                        0\n",
       "DewPointC                       13.874814\n",
       "RA                               3.776686\n",
       "TSRA                             3.135300\n",
       "DZ                               1.721530\n",
       "Species_CULEX PIPIENS            1.381515\n",
       "Month_07                         1.044834\n",
       "Species_CULEX PIPIENS/RESTUANS   0.926277\n",
       "ideal_environment                0.785712\n",
       "Month_08                         0.662862\n",
       "Month_06                         0.427193\n",
       "FG                               0.076937\n",
       "SN                               0.000000\n",
       "Species_CULEX ERRATICUS          0.000000\n",
       "VCFG                             0.000000\n",
       "GR                               0.000000\n",
       "SQ                               0.000000\n",
       "FG+                              0.000000\n",
       "BCFG                             0.000000\n",
       "MIFG                             0.000000\n",
       "FU                               0.000000\n",
       "Species_CULEX TARSALIS          -0.159949\n",
       "TS                              -0.319938\n",
       "TavgC                           -0.324610\n",
       "Month_05                        -0.454183\n",
       "BR                              -0.489519\n",
       "HZ                              -0.506499\n",
       "Month_10                        -0.531136\n",
       "photoperiod                     -0.583228\n",
       "Species_CULEX SALINARIUS        -1.029107\n",
       "ideal_feeding                   -1.405327\n",
       "Species_CULEX RESTUANS          -1.655020\n",
       "Species_CULEX TERRITANS         -1.677521\n",
       "VCTS                            -1.678977\n",
       "Month_09                        -1.949375\n",
       "Longitude                       -3.061304\n",
       "Latitude                        -4.401615\n",
       "TminC                           -4.575255\n",
       "rain                            -5.031661\n",
       "TmaxC                           -6.129132\n",
       "relative_humidity               -7.903840"
      ]
     },
     "execution_count": 122,
     "metadata": {},
     "output_type": "execute_result"
    }
   ],
   "source": [
    "pd.DataFrame(ridge.coef_, index=X.columns).sort_values(0, ascending=False)"
   ]
  },
  {
   "cell_type": "markdown",
   "metadata": {},
   "source": [
    "# Elastic Net"
   ]
  },
  {
   "cell_type": "code",
   "execution_count": 123,
   "metadata": {},
   "outputs": [],
   "source": [
    "en = ElasticNetCV()"
   ]
  },
  {
   "cell_type": "code",
   "execution_count": 124,
   "metadata": {},
   "outputs": [
    {
     "data": {
      "text/plain": [
       "ElasticNetCV(alphas=None, copy_X=True, cv=None, eps=0.001, fit_intercept=True,\n",
       "       l1_ratio=0.5, max_iter=1000, n_alphas=100, n_jobs=1,\n",
       "       normalize=False, positive=False, precompute='auto',\n",
       "       random_state=None, selection='cyclic', tol=0.0001, verbose=0)"
      ]
     },
     "execution_count": 124,
     "metadata": {},
     "output_type": "execute_result"
    }
   ],
   "source": [
    "en.fit(X_train_sc, y_train)"
   ]
  },
  {
   "cell_type": "code",
   "execution_count": 125,
   "metadata": {},
   "outputs": [
    {
     "data": {
      "text/plain": [
       "0.006297520463684618"
      ]
     },
     "execution_count": 125,
     "metadata": {},
     "output_type": "execute_result"
    }
   ],
   "source": [
    "en.alpha_"
   ]
  },
  {
   "cell_type": "code",
   "execution_count": 126,
   "metadata": {},
   "outputs": [
    {
     "data": {
      "text/plain": [
       "0.1703614219129419"
      ]
     },
     "execution_count": 126,
     "metadata": {},
     "output_type": "execute_result"
    }
   ],
   "source": [
    "en.score(X_train_sc, y_train)"
   ]
  },
  {
   "cell_type": "code",
   "execution_count": 127,
   "metadata": {},
   "outputs": [
    {
     "data": {
      "text/plain": [
       "0.1532555113737991"
      ]
     },
     "execution_count": 127,
     "metadata": {},
     "output_type": "execute_result"
    }
   ],
   "source": [
    "en.score(X_test_sc, y_test)"
   ]
  },
  {
   "cell_type": "code",
   "execution_count": 128,
   "metadata": {},
   "outputs": [
    {
     "data": {
      "text/html": [
       "<div>\n",
       "<style scoped>\n",
       "    .dataframe tbody tr th:only-of-type {\n",
       "        vertical-align: middle;\n",
       "    }\n",
       "\n",
       "    .dataframe tbody tr th {\n",
       "        vertical-align: top;\n",
       "    }\n",
       "\n",
       "    .dataframe thead th {\n",
       "        text-align: right;\n",
       "    }\n",
       "</style>\n",
       "<table border=\"1\" class=\"dataframe\">\n",
       "  <thead>\n",
       "    <tr style=\"text-align: right;\">\n",
       "      <th></th>\n",
       "      <th>0</th>\n",
       "    </tr>\n",
       "  </thead>\n",
       "  <tbody>\n",
       "    <tr>\n",
       "      <th>RA</th>\n",
       "      <td>3.205143</td>\n",
       "    </tr>\n",
       "    <tr>\n",
       "      <th>DewPointC</th>\n",
       "      <td>2.978429</td>\n",
       "    </tr>\n",
       "    <tr>\n",
       "      <th>TSRA</th>\n",
       "      <td>2.967836</td>\n",
       "    </tr>\n",
       "    <tr>\n",
       "      <th>DZ</th>\n",
       "      <td>1.716902</td>\n",
       "    </tr>\n",
       "    <tr>\n",
       "      <th>Species_CULEX PIPIENS</th>\n",
       "      <td>1.273233</td>\n",
       "    </tr>\n",
       "    <tr>\n",
       "      <th>ideal_environment</th>\n",
       "      <td>0.845997</td>\n",
       "    </tr>\n",
       "    <tr>\n",
       "      <th>Species_CULEX PIPIENS/RESTUANS</th>\n",
       "      <td>0.796765</td>\n",
       "    </tr>\n",
       "    <tr>\n",
       "      <th>Month_07</th>\n",
       "      <td>0.605533</td>\n",
       "    </tr>\n",
       "    <tr>\n",
       "      <th>Month_08</th>\n",
       "      <td>0.309989</td>\n",
       "    </tr>\n",
       "    <tr>\n",
       "      <th>FG</th>\n",
       "      <td>0.210496</td>\n",
       "    </tr>\n",
       "    <tr>\n",
       "      <th>Month_06</th>\n",
       "      <td>0.055233</td>\n",
       "    </tr>\n",
       "    <tr>\n",
       "      <th>TminC</th>\n",
       "      <td>-0.000000</td>\n",
       "    </tr>\n",
       "    <tr>\n",
       "      <th>Species_CULEX ERRATICUS</th>\n",
       "      <td>0.000000</td>\n",
       "    </tr>\n",
       "    <tr>\n",
       "      <th>TavgC</th>\n",
       "      <td>0.000000</td>\n",
       "    </tr>\n",
       "    <tr>\n",
       "      <th>GR</th>\n",
       "      <td>0.000000</td>\n",
       "    </tr>\n",
       "    <tr>\n",
       "      <th>VCFG</th>\n",
       "      <td>0.000000</td>\n",
       "    </tr>\n",
       "    <tr>\n",
       "      <th>SN</th>\n",
       "      <td>0.000000</td>\n",
       "    </tr>\n",
       "    <tr>\n",
       "      <th>SQ</th>\n",
       "      <td>0.000000</td>\n",
       "    </tr>\n",
       "    <tr>\n",
       "      <th>MIFG</th>\n",
       "      <td>0.000000</td>\n",
       "    </tr>\n",
       "    <tr>\n",
       "      <th>FU</th>\n",
       "      <td>0.000000</td>\n",
       "    </tr>\n",
       "    <tr>\n",
       "      <th>FG+</th>\n",
       "      <td>0.000000</td>\n",
       "    </tr>\n",
       "    <tr>\n",
       "      <th>BCFG</th>\n",
       "      <td>0.000000</td>\n",
       "    </tr>\n",
       "    <tr>\n",
       "      <th>Species_CULEX TARSALIS</th>\n",
       "      <td>-0.146983</td>\n",
       "    </tr>\n",
       "    <tr>\n",
       "      <th>photoperiod</th>\n",
       "      <td>-0.260681</td>\n",
       "    </tr>\n",
       "    <tr>\n",
       "      <th>TS</th>\n",
       "      <td>-0.301519</td>\n",
       "    </tr>\n",
       "    <tr>\n",
       "      <th>TmaxC</th>\n",
       "      <td>-0.515382</td>\n",
       "    </tr>\n",
       "    <tr>\n",
       "      <th>Month_05</th>\n",
       "      <td>-0.554753</td>\n",
       "    </tr>\n",
       "    <tr>\n",
       "      <th>Month_10</th>\n",
       "      <td>-0.555697</td>\n",
       "    </tr>\n",
       "    <tr>\n",
       "      <th>BR</th>\n",
       "      <td>-0.581603</td>\n",
       "    </tr>\n",
       "    <tr>\n",
       "      <th>HZ</th>\n",
       "      <td>-0.643059</td>\n",
       "    </tr>\n",
       "    <tr>\n",
       "      <th>Species_CULEX SALINARIUS</th>\n",
       "      <td>-1.048994</td>\n",
       "    </tr>\n",
       "    <tr>\n",
       "      <th>ideal_feeding</th>\n",
       "      <td>-1.468449</td>\n",
       "    </tr>\n",
       "    <tr>\n",
       "      <th>VCTS</th>\n",
       "      <td>-1.586536</td>\n",
       "    </tr>\n",
       "    <tr>\n",
       "      <th>Species_CULEX TERRITANS</th>\n",
       "      <td>-1.707767</td>\n",
       "    </tr>\n",
       "    <tr>\n",
       "      <th>Species_CULEX RESTUANS</th>\n",
       "      <td>-1.772365</td>\n",
       "    </tr>\n",
       "    <tr>\n",
       "      <th>Month_09</th>\n",
       "      <td>-2.057859</td>\n",
       "    </tr>\n",
       "    <tr>\n",
       "      <th>relative_humidity</th>\n",
       "      <td>-2.305487</td>\n",
       "    </tr>\n",
       "    <tr>\n",
       "      <th>Longitude</th>\n",
       "      <td>-2.999254</td>\n",
       "    </tr>\n",
       "    <tr>\n",
       "      <th>rain</th>\n",
       "      <td>-4.338567</td>\n",
       "    </tr>\n",
       "    <tr>\n",
       "      <th>Latitude</th>\n",
       "      <td>-4.344137</td>\n",
       "    </tr>\n",
       "  </tbody>\n",
       "</table>\n",
       "</div>"
      ],
      "text/plain": [
       "                                       0\n",
       "RA                              3.205143\n",
       "DewPointC                       2.978429\n",
       "TSRA                            2.967836\n",
       "DZ                              1.716902\n",
       "Species_CULEX PIPIENS           1.273233\n",
       "ideal_environment               0.845997\n",
       "Species_CULEX PIPIENS/RESTUANS  0.796765\n",
       "Month_07                        0.605533\n",
       "Month_08                        0.309989\n",
       "FG                              0.210496\n",
       "Month_06                        0.055233\n",
       "TminC                          -0.000000\n",
       "Species_CULEX ERRATICUS         0.000000\n",
       "TavgC                           0.000000\n",
       "GR                              0.000000\n",
       "VCFG                            0.000000\n",
       "SN                              0.000000\n",
       "SQ                              0.000000\n",
       "MIFG                            0.000000\n",
       "FU                              0.000000\n",
       "FG+                             0.000000\n",
       "BCFG                            0.000000\n",
       "Species_CULEX TARSALIS         -0.146983\n",
       "photoperiod                    -0.260681\n",
       "TS                             -0.301519\n",
       "TmaxC                          -0.515382\n",
       "Month_05                       -0.554753\n",
       "Month_10                       -0.555697\n",
       "BR                             -0.581603\n",
       "HZ                             -0.643059\n",
       "Species_CULEX SALINARIUS       -1.048994\n",
       "ideal_feeding                  -1.468449\n",
       "VCTS                           -1.586536\n",
       "Species_CULEX TERRITANS        -1.707767\n",
       "Species_CULEX RESTUANS         -1.772365\n",
       "Month_09                       -2.057859\n",
       "relative_humidity              -2.305487\n",
       "Longitude                      -2.999254\n",
       "rain                           -4.338567\n",
       "Latitude                       -4.344137"
      ]
     },
     "execution_count": 128,
     "metadata": {},
     "output_type": "execute_result"
    }
   ],
   "source": [
    "pd.DataFrame(en.coef_, index=X.columns).sort_values(0, ascending=False)"
   ]
  },
  {
   "cell_type": "markdown",
   "metadata": {},
   "source": [
    "# Random Forest"
   ]
  },
  {
   "cell_type": "code",
   "execution_count": 94,
   "metadata": {},
   "outputs": [],
   "source": [
    "rf = RandomForestRegressor()"
   ]
  },
  {
   "cell_type": "code",
   "execution_count": null,
   "metadata": {},
   "outputs": [],
   "source": [
    "rf."
   ]
  },
  {
   "cell_type": "code",
   "execution_count": null,
   "metadata": {},
   "outputs": [],
   "source": []
  },
  {
   "cell_type": "code",
   "execution_count": null,
   "metadata": {},
   "outputs": [],
   "source": []
  },
  {
   "cell_type": "markdown",
   "metadata": {},
   "source": [
    "# Neural Net to Predict NumMosquitos"
   ]
  },
  {
   "cell_type": "code",
   "execution_count": 129,
   "metadata": {},
   "outputs": [
    {
     "name": "stdout",
     "output_type": "stream",
     "text": [
      "40\n"
     ]
    }
   ],
   "source": [
    "# Check number of features:\n",
    "print(X_train_sc.shape[1])"
   ]
  },
  {
   "cell_type": "code",
   "execution_count": 157,
   "metadata": {},
   "outputs": [],
   "source": [
    "# Dynamically setting number of nodes in neural net\n",
    "layer1 = 40\n",
    "layer2 = 20\n",
    "layer3 = 10"
   ]
  },
  {
   "cell_type": "code",
   "execution_count": 158,
   "metadata": {},
   "outputs": [],
   "source": [
    "model = Sequential()\n",
    "model.add(Dense(layer1, activation='relu', input_dim=X_train_sc.shape[1])) #Makes this dynamic\n",
    "model.add(Dropout(.2))\n",
    "model.add(Dense(layer2, activation='relu')) #Makes this dynamic\n",
    "model.add(Dense(layer3, activation='relu')) #Makes this dynamic\n",
    "model.add(Dense(1, activation=None))"
   ]
  },
  {
   "cell_type": "code",
   "execution_count": 159,
   "metadata": {},
   "outputs": [],
   "source": [
    "adam = Adam(lr=0.0005)   # change metric to ROC/AUC\n",
    "model.compile(loss='mean_squared_error', optimizer=adam)"
   ]
  },
  {
   "cell_type": "code",
   "execution_count": 160,
   "metadata": {},
   "outputs": [
    {
     "name": "stdout",
     "output_type": "stream",
     "text": [
      "Train on 7879 samples, validate on 2627 samples\n",
      "Epoch 1/100\n",
      "7879/7879 [==============================] - 1s 136us/step - loss: 303.6375 - val_loss: 234.3130\n",
      "Epoch 2/100\n",
      "7879/7879 [==============================] - 1s 75us/step - loss: 218.8613 - val_loss: 212.4406\n",
      "Epoch 3/100\n",
      "7879/7879 [==============================] - 1s 76us/step - loss: 202.5494 - val_loss: 201.2030\n",
      "Epoch 4/100\n",
      "7879/7879 [==============================] - 1s 77us/step - loss: 194.7995 - val_loss: 193.6518\n",
      "Epoch 5/100\n",
      "7879/7879 [==============================] - 1s 78us/step - loss: 188.8539 - val_loss: 187.6754\n",
      "Epoch 6/100\n",
      "7879/7879 [==============================] - 1s 78us/step - loss: 184.4726 - val_loss: 184.5579\n",
      "Epoch 7/100\n",
      "7879/7879 [==============================] - 1s 79us/step - loss: 181.1617 - val_loss: 179.8885\n",
      "Epoch 8/100\n",
      "7879/7879 [==============================] - 1s 77us/step - loss: 177.9817 - val_loss: 177.2196\n",
      "Epoch 9/100\n",
      "7879/7879 [==============================] - 1s 78us/step - loss: 173.3526 - val_loss: 174.7424\n",
      "Epoch 10/100\n",
      "7879/7879 [==============================] - 1s 79us/step - loss: 174.1345 - val_loss: 172.3641\n",
      "Epoch 11/100\n",
      "7879/7879 [==============================] - 1s 78us/step - loss: 172.3198 - val_loss: 170.8402\n",
      "Epoch 12/100\n",
      "7879/7879 [==============================] - 1s 82us/step - loss: 170.7784 - val_loss: 168.6415\n",
      "Epoch 13/100\n",
      "7879/7879 [==============================] - 1s 79us/step - loss: 169.2069 - val_loss: 166.5475\n",
      "Epoch 14/100\n",
      "7879/7879 [==============================] - 1s 78us/step - loss: 170.0255 - val_loss: 165.5866\n",
      "Epoch 15/100\n",
      "7879/7879 [==============================] - 1s 79us/step - loss: 166.3806 - val_loss: 164.8357\n",
      "Epoch 16/100\n",
      "7879/7879 [==============================] - 1s 79us/step - loss: 164.7375 - val_loss: 162.5971\n",
      "Epoch 17/100\n",
      "7879/7879 [==============================] - 1s 78us/step - loss: 163.2122 - val_loss: 162.7449\n",
      "Epoch 18/100\n",
      "7879/7879 [==============================] - 1s 100us/step - loss: 164.0382 - val_loss: 160.2557\n",
      "Epoch 19/100\n",
      "7879/7879 [==============================] - 1s 104us/step - loss: 161.7243 - val_loss: 161.4861\n",
      "Epoch 20/100\n",
      "7879/7879 [==============================] - 1s 88us/step - loss: 162.5824 - val_loss: 160.1079\n",
      "Epoch 21/100\n",
      "7879/7879 [==============================] - 1s 90us/step - loss: 160.3444 - val_loss: 158.9361\n",
      "Epoch 22/100\n",
      "7879/7879 [==============================] - 1s 90us/step - loss: 158.4378 - val_loss: 157.4428\n",
      "Epoch 23/100\n",
      "7879/7879 [==============================] - 1s 91us/step - loss: 158.4971 - val_loss: 156.1991\n",
      "Epoch 24/100\n",
      "7879/7879 [==============================] - 1s 92us/step - loss: 158.1749 - val_loss: 155.5263\n",
      "Epoch 25/100\n",
      "7879/7879 [==============================] - 1s 92us/step - loss: 158.6727 - val_loss: 156.6884\n",
      "Epoch 26/100\n",
      "7879/7879 [==============================] - 1s 91us/step - loss: 158.8099 - val_loss: 154.6336\n",
      "Epoch 27/100\n",
      "7879/7879 [==============================] - 1s 92us/step - loss: 155.7254 - val_loss: 155.0221\n",
      "Epoch 28/100\n",
      "7879/7879 [==============================] - 1s 93us/step - loss: 158.0925 - val_loss: 153.6005\n",
      "Epoch 29/100\n",
      "7879/7879 [==============================] - 1s 92us/step - loss: 154.7427 - val_loss: 154.7838\n",
      "Epoch 30/100\n",
      "7879/7879 [==============================] - 1s 94us/step - loss: 155.1746 - val_loss: 151.4089\n",
      "Epoch 31/100\n",
      "7879/7879 [==============================] - 1s 97us/step - loss: 153.6990 - val_loss: 151.4957\n",
      "Epoch 32/100\n",
      "7879/7879 [==============================] - 1s 98us/step - loss: 152.3863 - val_loss: 150.3031\n",
      "Epoch 33/100\n",
      "7879/7879 [==============================] - 1s 98us/step - loss: 152.1263 - val_loss: 150.0192\n",
      "Epoch 34/100\n",
      "7879/7879 [==============================] - 1s 93us/step - loss: 152.2847 - val_loss: 149.4096\n",
      "Epoch 35/100\n",
      "7879/7879 [==============================] - 1s 98us/step - loss: 150.7013 - val_loss: 148.7145\n",
      "Epoch 36/100\n",
      "7879/7879 [==============================] - 1s 93us/step - loss: 155.1182 - val_loss: 148.8711\n",
      "Epoch 37/100\n",
      "7879/7879 [==============================] - 1s 93us/step - loss: 151.9432 - val_loss: 149.6094\n",
      "Epoch 38/100\n",
      "7879/7879 [==============================] - 1s 99us/step - loss: 150.2147 - val_loss: 148.2235\n",
      "Epoch 39/100\n",
      "7879/7879 [==============================] - 1s 99us/step - loss: 151.0865 - val_loss: 146.6571\n",
      "Epoch 40/100\n",
      "7879/7879 [==============================] - 1s 100us/step - loss: 149.7159 - val_loss: 146.9879\n",
      "Epoch 41/100\n",
      "7879/7879 [==============================] - 1s 97us/step - loss: 150.7118 - val_loss: 146.4396\n",
      "Epoch 42/100\n",
      "7879/7879 [==============================] - 1s 99us/step - loss: 147.7443 - val_loss: 146.9311\n",
      "Epoch 43/100\n",
      "7879/7879 [==============================] - 1s 119us/step - loss: 148.8325 - val_loss: 145.7618\n",
      "Epoch 44/100\n",
      "7879/7879 [==============================] - 1s 127us/step - loss: 147.2718 - val_loss: 144.6663\n",
      "Epoch 45/100\n",
      "7879/7879 [==============================] - 1s 147us/step - loss: 147.7626 - val_loss: 145.8981\n",
      "Epoch 46/100\n",
      "7879/7879 [==============================] - 1s 107us/step - loss: 145.0358 - val_loss: 145.2651\n",
      "Epoch 47/100\n",
      "7879/7879 [==============================] - 1s 115us/step - loss: 147.2302 - val_loss: 146.2870\n",
      "Epoch 48/100\n",
      "7879/7879 [==============================] - 1s 99us/step - loss: 148.0515 - val_loss: 145.5494\n",
      "Epoch 49/100\n",
      "7879/7879 [==============================] - 1s 94us/step - loss: 146.0346 - val_loss: 144.6412\n",
      "Epoch 50/100\n",
      "7879/7879 [==============================] - 1s 97us/step - loss: 144.5501 - val_loss: 145.1828\n",
      "Epoch 51/100\n",
      "7879/7879 [==============================] - 1s 99us/step - loss: 144.6233 - val_loss: 143.9678\n",
      "Epoch 52/100\n",
      "7879/7879 [==============================] - 1s 96us/step - loss: 145.6898 - val_loss: 143.4392\n",
      "Epoch 53/100\n",
      "7879/7879 [==============================] - 1s 96us/step - loss: 143.9861 - val_loss: 143.0892\n",
      "Epoch 54/100\n",
      "7879/7879 [==============================] - 1s 91us/step - loss: 144.5163 - val_loss: 142.5219\n",
      "Epoch 55/100\n",
      "7879/7879 [==============================] - 1s 93us/step - loss: 145.8781 - val_loss: 143.7022\n",
      "Epoch 56/100\n",
      "7879/7879 [==============================] - 1s 94us/step - loss: 144.0843 - val_loss: 143.5572\n",
      "Epoch 57/100\n",
      "7879/7879 [==============================] - 1s 91us/step - loss: 143.5522 - val_loss: 144.6250\n",
      "Epoch 58/100\n",
      "7879/7879 [==============================] - 1s 99us/step - loss: 145.0039 - val_loss: 143.1406\n",
      "Epoch 59/100\n",
      "7879/7879 [==============================] - 1s 94us/step - loss: 142.7105 - val_loss: 142.2324\n",
      "Epoch 60/100\n",
      "7879/7879 [==============================] - 1s 93us/step - loss: 144.4444 - val_loss: 142.7593\n",
      "Epoch 61/100\n",
      "7879/7879 [==============================] - 1s 98us/step - loss: 143.1980 - val_loss: 142.1350\n",
      "Epoch 62/100\n",
      "7879/7879 [==============================] - 1s 92us/step - loss: 143.8760 - val_loss: 142.1137\n",
      "Epoch 63/100\n",
      "7879/7879 [==============================] - 1s 97us/step - loss: 142.9714 - val_loss: 144.7261\n",
      "Epoch 64/100\n",
      "7879/7879 [==============================] - 1s 94us/step - loss: 142.4231 - val_loss: 141.6818\n",
      "Epoch 65/100\n",
      "7879/7879 [==============================] - 1s 96us/step - loss: 141.7275 - val_loss: 141.4025\n",
      "Epoch 66/100\n",
      "7879/7879 [==============================] - 1s 93us/step - loss: 142.6955 - val_loss: 141.2491\n",
      "Epoch 67/100\n",
      "7879/7879 [==============================] - 1s 101us/step - loss: 142.9144 - val_loss: 141.0103\n",
      "Epoch 68/100\n",
      "7879/7879 [==============================] - 1s 98us/step - loss: 143.5562 - val_loss: 140.9525\n",
      "Epoch 69/100\n",
      "7879/7879 [==============================] - 1s 93us/step - loss: 141.7327 - val_loss: 142.5908\n",
      "Epoch 70/100\n",
      "7879/7879 [==============================] - 1s 94us/step - loss: 139.5876 - val_loss: 140.4690\n",
      "Epoch 71/100\n",
      "7879/7879 [==============================] - 1s 101us/step - loss: 141.5237 - val_loss: 141.3154\n",
      "Epoch 72/100\n",
      "7879/7879 [==============================] - 1s 94us/step - loss: 140.0195 - val_loss: 140.4675\n",
      "Epoch 73/100\n",
      "7879/7879 [==============================] - 1s 100us/step - loss: 140.7657 - val_loss: 140.9717\n",
      "Epoch 74/100\n",
      "7879/7879 [==============================] - 1s 92us/step - loss: 140.4307 - val_loss: 139.7743\n",
      "Epoch 75/100\n"
     ]
    },
    {
     "name": "stdout",
     "output_type": "stream",
     "text": [
      "7879/7879 [==============================] - 1s 83us/step - loss: 139.9834 - val_loss: 140.4725\n",
      "Epoch 76/100\n",
      "7879/7879 [==============================] - 1s 79us/step - loss: 139.8598 - val_loss: 139.8096\n",
      "Epoch 77/100\n",
      "7879/7879 [==============================] - 1s 79us/step - loss: 140.1311 - val_loss: 139.9706\n",
      "Epoch 78/100\n",
      "7879/7879 [==============================] - 1s 81us/step - loss: 137.9496 - val_loss: 139.9875\n",
      "Epoch 79/100\n",
      "7879/7879 [==============================] - 1s 82us/step - loss: 139.5343 - val_loss: 139.7276\n",
      "Epoch 80/100\n",
      "7879/7879 [==============================] - 1s 82us/step - loss: 139.8495 - val_loss: 139.3545\n",
      "Epoch 81/100\n",
      "7879/7879 [==============================] - 1s 79us/step - loss: 139.9426 - val_loss: 141.9590\n",
      "Epoch 82/100\n",
      "7879/7879 [==============================] - 1s 82us/step - loss: 137.0808 - val_loss: 139.5331\n",
      "Epoch 83/100\n",
      "7879/7879 [==============================] - 1s 80us/step - loss: 137.5710 - val_loss: 140.4232\n",
      "Epoch 84/100\n",
      "7879/7879 [==============================] - 1s 84us/step - loss: 139.3063 - val_loss: 140.2842\n",
      "Epoch 85/100\n",
      "7879/7879 [==============================] - 1s 84us/step - loss: 137.2504 - val_loss: 139.0118\n",
      "Epoch 86/100\n",
      "7879/7879 [==============================] - 1s 96us/step - loss: 137.7128 - val_loss: 139.9484\n",
      "Epoch 87/100\n",
      "7879/7879 [==============================] - 1s 120us/step - loss: 137.7123 - val_loss: 138.4208\n",
      "Epoch 88/100\n",
      "7879/7879 [==============================] - 1s 126us/step - loss: 139.1895 - val_loss: 138.9485\n",
      "Epoch 89/100\n",
      "7879/7879 [==============================] - 1s 121us/step - loss: 139.0878 - val_loss: 139.7850\n",
      "Epoch 90/100\n",
      "7879/7879 [==============================] - 1s 107us/step - loss: 137.2332 - val_loss: 139.6979\n",
      "Epoch 91/100\n",
      "7879/7879 [==============================] - 1s 104us/step - loss: 137.1914 - val_loss: 139.6164\n",
      "Epoch 92/100\n",
      "7879/7879 [==============================] - 1s 97us/step - loss: 137.5065 - val_loss: 139.8950\n",
      "Epoch 93/100\n",
      "7879/7879 [==============================] - 1s 99us/step - loss: 137.6673 - val_loss: 138.8917\n",
      "Epoch 94/100\n",
      "7879/7879 [==============================] - 1s 105us/step - loss: 135.6774 - val_loss: 139.3394\n",
      "Epoch 95/100\n",
      "7879/7879 [==============================] - 1s 108us/step - loss: 137.1647 - val_loss: 139.2384\n",
      "Epoch 96/100\n",
      "7879/7879 [==============================] - 1s 121us/step - loss: 138.8207 - val_loss: 138.6692\n",
      "Epoch 97/100\n",
      "7879/7879 [==============================] - 1s 134us/step - loss: 137.7773 - val_loss: 138.4575\n",
      "Epoch 98/100\n",
      "7879/7879 [==============================] - 1s 115us/step - loss: 137.8925 - val_loss: 140.2127\n",
      "Epoch 99/100\n",
      "7879/7879 [==============================] - 1s 108us/step - loss: 136.4604 - val_loss: 138.1648\n",
      "Epoch 100/100\n",
      "7879/7879 [==============================] - 1s 107us/step - loss: 135.7937 - val_loss: 139.5421\n"
     ]
    }
   ],
   "source": [
    "history = model.fit(X_train_sc, y_train, validation_data=(X_test_sc, y_test), epochs=100, batch_size=32, verbose=1)"
   ]
  },
  {
   "cell_type": "code",
   "execution_count": 151,
   "metadata": {},
   "outputs": [
    {
     "data": {
      "text/plain": [
       "<matplotlib.legend.Legend at 0x1a196a0438>"
      ]
     },
     "execution_count": 151,
     "metadata": {},
     "output_type": "execute_result"
    },
    {
     "data": {
      "image/png": "[encoded data removed]",
      "text/plain": [
       "<matplotlib.figure.Figure at 0x1a2d8760f0>"
      ]
     },
     "metadata": {},
     "output_type": "display_data"
    }
   ],
   "source": [
    "plt.plot(history.history['loss'], label= 'Train Loss')\n",
    "plt.plot(history.history['val_loss'], label='Test Loss')\n",
    "\n",
    "plt.title()\n",
    "plt.legend()"
   ]
  },
  {
   "cell_type": "code",
   "execution_count": null,
   "metadata": {},
   "outputs": [],
   "source": []
  }
 ],
 "metadata": {
  "kernelspec": {
   "display_name": "Python [default]",
   "language": "python",
   "name": "python3"
  },
  "language_info": {
   "codemirror_mode": {
    "name": "ipython",
    "version": 3
   },
   "file_extension": ".py",
   "mimetype": "text/x-python",
   "name": "python",
   "nbconvert_exporter": "python",
   "pygments_lexer": "ipython3",
   "version": "3.6.4"
  }
 },
 "nbformat": 4,
 "nbformat_minor": 2
}
