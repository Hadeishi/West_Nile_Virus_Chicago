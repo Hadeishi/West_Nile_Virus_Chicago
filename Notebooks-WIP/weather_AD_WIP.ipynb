{
 "cells": [
  {
   "cell_type": "code",
   "execution_count": 1,
   "metadata": {},
   "outputs": [],
   "source": [
    "import numpy as np\n",
    "import pandas as pd\n",
    "import seaborn as sns\n",
    "\n",
    "import matplotlib.pyplot as plt\n",
    "\n",
    "%matplotlib inline\n",
    "\n",
    "import datetime"
   ]
  },
  {
   "cell_type": "code",
   "execution_count": 2,
   "metadata": {},
   "outputs": [
    {
     "name": "stdout",
     "output_type": "stream",
     "text": [
      "spray.csv.zip   test.csv.zip    train.csv.zip   weather.csv.zip west_nile.zip\n"
     ]
    }
   ],
   "source": [
    "! ls Weather_AD_WIP/data"
   ]
  },
  {
   "cell_type": "code",
   "execution_count": 3,
   "metadata": {},
   "outputs": [],
   "source": [
    "train = pd.read_csv('Weather_AD_WIP/data/train.csv.zip')\n",
    "weather = pd.read_csv('Weather_AD_WIP/data/weather.csv.zip')\n",
    "spray = pd.read_csv('Weather_AD_WIP/data/spray.csv.zip')\n",
    "test = pd.read_csv('Weather_AD_WIP/data/test.csv.zip')"
   ]
  },
  {
   "cell_type": "markdown",
   "metadata": {},
   "source": [
    "## Motivation\n",
    "\n",
    "The motivation behind this project was to create a model that may predict when and where different species of mosquitos will test positive with the West Nile virus. Permitting the City of Chicago and the Chicago Department of Public Health (CPHD) to efficiently and effectively allocate their resources towards the prevention of the West Nile Virus. \n",
    "\n",
    "Notes: \n",
    "\n",
    "Find the correlation between Tavg and Dates.\n",
    "\n"
   ]
  },
  {
   "cell_type": "markdown",
   "metadata": {},
   "source": [
    "-------\n",
    "\n",
    "# Weather: \n",
    "\n",
    "----------"
   ]
  },
  {
   "cell_type": "code",
   "execution_count": 4,
   "metadata": {},
   "outputs": [
    {
     "data": {
      "text/html": [
       "<div>\n",
       "<style scoped>\n",
       "    .dataframe tbody tr th:only-of-type {\n",
       "        vertical-align: middle;\n",
       "    }\n",
       "\n",
       "    .dataframe tbody tr th {\n",
       "        vertical-align: top;\n",
       "    }\n",
       "\n",
       "    .dataframe thead th {\n",
       "        text-align: right;\n",
       "    }\n",
       "</style>\n",
       "<table border=\"1\" class=\"dataframe\">\n",
       "  <thead>\n",
       "    <tr style=\"text-align: right;\">\n",
       "      <th></th>\n",
       "      <th>Station</th>\n",
       "      <th>Date</th>\n",
       "      <th>Tmax</th>\n",
       "      <th>Tmin</th>\n",
       "      <th>Tavg</th>\n",
       "      <th>Depart</th>\n",
       "      <th>DewPoint</th>\n",
       "      <th>WetBulb</th>\n",
       "      <th>Heat</th>\n",
       "      <th>Cool</th>\n",
       "      <th>...</th>\n",
       "      <th>CodeSum</th>\n",
       "      <th>Depth</th>\n",
       "      <th>Water1</th>\n",
       "      <th>SnowFall</th>\n",
       "      <th>PrecipTotal</th>\n",
       "      <th>StnPressure</th>\n",
       "      <th>SeaLevel</th>\n",
       "      <th>ResultSpeed</th>\n",
       "      <th>ResultDir</th>\n",
       "      <th>AvgSpeed</th>\n",
       "    </tr>\n",
       "  </thead>\n",
       "  <tbody>\n",
       "    <tr>\n",
       "      <th>0</th>\n",
       "      <td>1</td>\n",
       "      <td>2007-05-01</td>\n",
       "      <td>83</td>\n",
       "      <td>50</td>\n",
       "      <td>67</td>\n",
       "      <td>14</td>\n",
       "      <td>51</td>\n",
       "      <td>56</td>\n",
       "      <td>0</td>\n",
       "      <td>2</td>\n",
       "      <td>...</td>\n",
       "      <td></td>\n",
       "      <td>0</td>\n",
       "      <td>M</td>\n",
       "      <td>0.0</td>\n",
       "      <td>0.00</td>\n",
       "      <td>29.10</td>\n",
       "      <td>29.82</td>\n",
       "      <td>1.7</td>\n",
       "      <td>27</td>\n",
       "      <td>9.2</td>\n",
       "    </tr>\n",
       "    <tr>\n",
       "      <th>1</th>\n",
       "      <td>2</td>\n",
       "      <td>2007-05-01</td>\n",
       "      <td>84</td>\n",
       "      <td>52</td>\n",
       "      <td>68</td>\n",
       "      <td>M</td>\n",
       "      <td>51</td>\n",
       "      <td>57</td>\n",
       "      <td>0</td>\n",
       "      <td>3</td>\n",
       "      <td>...</td>\n",
       "      <td></td>\n",
       "      <td>M</td>\n",
       "      <td>M</td>\n",
       "      <td>M</td>\n",
       "      <td>0.00</td>\n",
       "      <td>29.18</td>\n",
       "      <td>29.82</td>\n",
       "      <td>2.7</td>\n",
       "      <td>25</td>\n",
       "      <td>9.6</td>\n",
       "    </tr>\n",
       "  </tbody>\n",
       "</table>\n",
       "<p>2 rows × 22 columns</p>\n",
       "</div>"
      ],
      "text/plain": [
       "   Station        Date  Tmax  Tmin Tavg Depart  DewPoint WetBulb Heat Cool  \\\n",
       "0        1  2007-05-01    83    50   67     14        51      56    0    2   \n",
       "1        2  2007-05-01    84    52   68      M        51      57    0    3   \n",
       "\n",
       "     ...    CodeSum Depth Water1 SnowFall PrecipTotal StnPressure SeaLevel  \\\n",
       "0    ...                0      M      0.0        0.00       29.10    29.82   \n",
       "1    ...                M      M        M        0.00       29.18    29.82   \n",
       "\n",
       "  ResultSpeed ResultDir  AvgSpeed  \n",
       "0         1.7        27       9.2  \n",
       "1         2.7        25       9.6  \n",
       "\n",
       "[2 rows x 22 columns]"
      ]
     },
     "execution_count": 4,
     "metadata": {},
     "output_type": "execute_result"
    }
   ],
   "source": [
    "weather.head(2)"
   ]
  },
  {
   "cell_type": "code",
   "execution_count": 5,
   "metadata": {},
   "outputs": [
    {
     "name": "stdout",
     "output_type": "stream",
     "text": [
      "<class 'pandas.core.frame.DataFrame'>\n",
      "RangeIndex: 2944 entries, 0 to 2943\n",
      "Data columns (total 22 columns):\n",
      "Station        2944 non-null int64\n",
      "Date           2944 non-null object\n",
      "Tmax           2944 non-null int64\n",
      "Tmin           2944 non-null int64\n",
      "Tavg           2944 non-null object\n",
      "Depart         2944 non-null object\n",
      "DewPoint       2944 non-null int64\n",
      "WetBulb        2944 non-null object\n",
      "Heat           2944 non-null object\n",
      "Cool           2944 non-null object\n",
      "Sunrise        2944 non-null object\n",
      "Sunset         2944 non-null object\n",
      "CodeSum        2944 non-null object\n",
      "Depth          2944 non-null object\n",
      "Water1         2944 non-null object\n",
      "SnowFall       2944 non-null object\n",
      "PrecipTotal    2944 non-null object\n",
      "StnPressure    2944 non-null object\n",
      "SeaLevel       2944 non-null object\n",
      "ResultSpeed    2944 non-null float64\n",
      "ResultDir      2944 non-null int64\n",
      "AvgSpeed       2944 non-null object\n",
      "dtypes: float64(1), int64(5), object(16)\n",
      "memory usage: 506.1+ KB\n"
     ]
    }
   ],
   "source": [
    "weather.info()"
   ]
  },
  {
   "cell_type": "code",
   "execution_count": 6,
   "metadata": {},
   "outputs": [
    {
     "data": {
      "text/html": [
       "<div>\n",
       "<style scoped>\n",
       "    .dataframe tbody tr th:only-of-type {\n",
       "        vertical-align: middle;\n",
       "    }\n",
       "\n",
       "    .dataframe tbody tr th {\n",
       "        vertical-align: top;\n",
       "    }\n",
       "\n",
       "    .dataframe thead th {\n",
       "        text-align: right;\n",
       "    }\n",
       "</style>\n",
       "<table border=\"1\" class=\"dataframe\">\n",
       "  <thead>\n",
       "    <tr style=\"text-align: right;\">\n",
       "      <th></th>\n",
       "      <th>Station</th>\n",
       "      <th>Tmax</th>\n",
       "      <th>Tmin</th>\n",
       "      <th>DewPoint</th>\n",
       "      <th>ResultSpeed</th>\n",
       "      <th>ResultDir</th>\n",
       "    </tr>\n",
       "  </thead>\n",
       "  <tbody>\n",
       "    <tr>\n",
       "      <th>count</th>\n",
       "      <td>2944.000000</td>\n",
       "      <td>2944.000000</td>\n",
       "      <td>2944.000000</td>\n",
       "      <td>2944.000000</td>\n",
       "      <td>2944.000000</td>\n",
       "      <td>2944.000000</td>\n",
       "    </tr>\n",
       "    <tr>\n",
       "      <th>mean</th>\n",
       "      <td>1.500000</td>\n",
       "      <td>76.166101</td>\n",
       "      <td>57.810462</td>\n",
       "      <td>53.457880</td>\n",
       "      <td>6.960666</td>\n",
       "      <td>17.494905</td>\n",
       "    </tr>\n",
       "    <tr>\n",
       "      <th>std</th>\n",
       "      <td>0.500085</td>\n",
       "      <td>11.461970</td>\n",
       "      <td>10.381939</td>\n",
       "      <td>10.675181</td>\n",
       "      <td>3.587527</td>\n",
       "      <td>10.063609</td>\n",
       "    </tr>\n",
       "    <tr>\n",
       "      <th>min</th>\n",
       "      <td>1.000000</td>\n",
       "      <td>41.000000</td>\n",
       "      <td>29.000000</td>\n",
       "      <td>22.000000</td>\n",
       "      <td>0.100000</td>\n",
       "      <td>1.000000</td>\n",
       "    </tr>\n",
       "    <tr>\n",
       "      <th>25%</th>\n",
       "      <td>1.000000</td>\n",
       "      <td>69.000000</td>\n",
       "      <td>50.000000</td>\n",
       "      <td>46.000000</td>\n",
       "      <td>4.300000</td>\n",
       "      <td>7.000000</td>\n",
       "    </tr>\n",
       "    <tr>\n",
       "      <th>50%</th>\n",
       "      <td>1.500000</td>\n",
       "      <td>78.000000</td>\n",
       "      <td>59.000000</td>\n",
       "      <td>54.000000</td>\n",
       "      <td>6.400000</td>\n",
       "      <td>19.000000</td>\n",
       "    </tr>\n",
       "    <tr>\n",
       "      <th>75%</th>\n",
       "      <td>2.000000</td>\n",
       "      <td>85.000000</td>\n",
       "      <td>66.000000</td>\n",
       "      <td>62.000000</td>\n",
       "      <td>9.200000</td>\n",
       "      <td>25.000000</td>\n",
       "    </tr>\n",
       "    <tr>\n",
       "      <th>max</th>\n",
       "      <td>2.000000</td>\n",
       "      <td>104.000000</td>\n",
       "      <td>83.000000</td>\n",
       "      <td>75.000000</td>\n",
       "      <td>24.100000</td>\n",
       "      <td>36.000000</td>\n",
       "    </tr>\n",
       "  </tbody>\n",
       "</table>\n",
       "</div>"
      ],
      "text/plain": [
       "           Station         Tmax         Tmin     DewPoint  ResultSpeed  \\\n",
       "count  2944.000000  2944.000000  2944.000000  2944.000000  2944.000000   \n",
       "mean      1.500000    76.166101    57.810462    53.457880     6.960666   \n",
       "std       0.500085    11.461970    10.381939    10.675181     3.587527   \n",
       "min       1.000000    41.000000    29.000000    22.000000     0.100000   \n",
       "25%       1.000000    69.000000    50.000000    46.000000     4.300000   \n",
       "50%       1.500000    78.000000    59.000000    54.000000     6.400000   \n",
       "75%       2.000000    85.000000    66.000000    62.000000     9.200000   \n",
       "max       2.000000   104.000000    83.000000    75.000000    24.100000   \n",
       "\n",
       "         ResultDir  \n",
       "count  2944.000000  \n",
       "mean     17.494905  \n",
       "std      10.063609  \n",
       "min       1.000000  \n",
       "25%       7.000000  \n",
       "50%      19.000000  \n",
       "75%      25.000000  \n",
       "max      36.000000  "
      ]
     },
     "execution_count": 6,
     "metadata": {},
     "output_type": "execute_result"
    }
   ],
   "source": [
    "weather.describe()"
   ]
  },
  {
   "cell_type": "markdown",
   "metadata": {},
   "source": [
    "## Correlation Heatmap:"
   ]
  },
  {
   "cell_type": "code",
   "execution_count": 7,
   "metadata": {},
   "outputs": [
    {
     "data": {
      "image/png": "[encoded data removed]",
      "text/plain": [
       "<matplotlib.figure.Figure at 0x10ba8a780>"
      ]
     },
     "metadata": {},
     "output_type": "display_data"
    }
   ],
   "source": [
    "sns.set(style=\"white\")\n",
    "\n",
    "corr = weather.corr()\n",
    "\n",
    "mask = np.zeros_like(corr, dtype=np.bool)\n",
    "mask[np.triu_indices_from(mask)] = True\n",
    "\n",
    "f, ax = plt.subplots(figsize=(15, 15))\n",
    "\n",
    "sns.heatmap(corr, annot = True, mask=mask, vmin = -1, vmax= 1, center=0,\n",
    "            square=True, linewidths=.3);"
   ]
  },
  {
   "cell_type": "markdown",
   "metadata": {},
   "source": [
    "## Dropping Columns:"
   ]
  },
  {
   "cell_type": "code",
   "execution_count": 8,
   "metadata": {},
   "outputs": [],
   "source": [
    "weather.drop('Depart', 1,inplace=True)"
   ]
  },
  {
   "cell_type": "code",
   "execution_count": 9,
   "metadata": {},
   "outputs": [],
   "source": [
    "weather.drop('Depth', 1,inplace=True)"
   ]
  },
  {
   "cell_type": "code",
   "execution_count": 10,
   "metadata": {},
   "outputs": [],
   "source": [
    "weather.drop('Water1', 1,inplace=True)"
   ]
  },
  {
   "cell_type": "code",
   "execution_count": 11,
   "metadata": {},
   "outputs": [],
   "source": [
    "weather.drop('SnowFall', 1,inplace=True)"
   ]
  },
  {
   "cell_type": "code",
   "execution_count": 12,
   "metadata": {},
   "outputs": [],
   "source": [
    "# weather.drop('StnPressure', 1,inplace=True)"
   ]
  },
  {
   "cell_type": "code",
   "execution_count": 13,
   "metadata": {},
   "outputs": [],
   "source": [
    "weather.drop('SeaLevel', 1,inplace=True)"
   ]
  },
  {
   "cell_type": "code",
   "execution_count": 14,
   "metadata": {},
   "outputs": [],
   "source": [
    "# weather.drop('Sunrise', 1,inplace=True)"
   ]
  },
  {
   "cell_type": "code",
   "execution_count": 15,
   "metadata": {},
   "outputs": [],
   "source": [
    "# weather.drop('Sunset', 1,inplace=True)"
   ]
  },
  {
   "cell_type": "code",
   "execution_count": 16,
   "metadata": {},
   "outputs": [],
   "source": [
    "weather.drop('Heat', 1,inplace=True)"
   ]
  },
  {
   "cell_type": "code",
   "execution_count": 17,
   "metadata": {},
   "outputs": [],
   "source": [
    "weather.drop('Cool', 1,inplace=True)"
   ]
  },
  {
   "cell_type": "code",
   "execution_count": 18,
   "metadata": {},
   "outputs": [],
   "source": [
    "weather.drop('ResultSpeed', 1,inplace=True)"
   ]
  },
  {
   "cell_type": "code",
   "execution_count": 19,
   "metadata": {},
   "outputs": [
    {
     "data": {
      "text/html": [
       "<div>\n",
       "<style scoped>\n",
       "    .dataframe tbody tr th:only-of-type {\n",
       "        vertical-align: middle;\n",
       "    }\n",
       "\n",
       "    .dataframe tbody tr th {\n",
       "        vertical-align: top;\n",
       "    }\n",
       "\n",
       "    .dataframe thead th {\n",
       "        text-align: right;\n",
       "    }\n",
       "</style>\n",
       "<table border=\"1\" class=\"dataframe\">\n",
       "  <thead>\n",
       "    <tr style=\"text-align: right;\">\n",
       "      <th></th>\n",
       "      <th>Station</th>\n",
       "      <th>Date</th>\n",
       "      <th>Tmax</th>\n",
       "      <th>Tmin</th>\n",
       "      <th>Tavg</th>\n",
       "      <th>DewPoint</th>\n",
       "      <th>WetBulb</th>\n",
       "      <th>Sunrise</th>\n",
       "      <th>Sunset</th>\n",
       "      <th>CodeSum</th>\n",
       "      <th>PrecipTotal</th>\n",
       "      <th>StnPressure</th>\n",
       "      <th>ResultDir</th>\n",
       "      <th>AvgSpeed</th>\n",
       "    </tr>\n",
       "  </thead>\n",
       "  <tbody>\n",
       "    <tr>\n",
       "      <th>0</th>\n",
       "      <td>1</td>\n",
       "      <td>2007-05-01</td>\n",
       "      <td>83</td>\n",
       "      <td>50</td>\n",
       "      <td>67</td>\n",
       "      <td>51</td>\n",
       "      <td>56</td>\n",
       "      <td>0448</td>\n",
       "      <td>1849</td>\n",
       "      <td></td>\n",
       "      <td>0.00</td>\n",
       "      <td>29.10</td>\n",
       "      <td>27</td>\n",
       "      <td>9.2</td>\n",
       "    </tr>\n",
       "    <tr>\n",
       "      <th>1</th>\n",
       "      <td>2</td>\n",
       "      <td>2007-05-01</td>\n",
       "      <td>84</td>\n",
       "      <td>52</td>\n",
       "      <td>68</td>\n",
       "      <td>51</td>\n",
       "      <td>57</td>\n",
       "      <td>-</td>\n",
       "      <td>-</td>\n",
       "      <td></td>\n",
       "      <td>0.00</td>\n",
       "      <td>29.18</td>\n",
       "      <td>25</td>\n",
       "      <td>9.6</td>\n",
       "    </tr>\n",
       "  </tbody>\n",
       "</table>\n",
       "</div>"
      ],
      "text/plain": [
       "   Station        Date  Tmax  Tmin Tavg  DewPoint WetBulb Sunrise Sunset  \\\n",
       "0        1  2007-05-01    83    50   67        51      56    0448   1849   \n",
       "1        2  2007-05-01    84    52   68        51      57       -      -   \n",
       "\n",
       "  CodeSum PrecipTotal StnPressure  ResultDir AvgSpeed  \n",
       "0                0.00       29.10         27      9.2  \n",
       "1                0.00       29.18         25      9.6  "
      ]
     },
     "execution_count": 19,
     "metadata": {},
     "output_type": "execute_result"
    }
   ],
   "source": [
    "weather.head(2)"
   ]
  },
  {
   "cell_type": "markdown",
   "metadata": {},
   "source": [
    "## Exploring the Data:\n",
    "-------"
   ]
  },
  {
   "cell_type": "markdown",
   "metadata": {},
   "source": [
    "#### Date Values:"
   ]
  },
  {
   "cell_type": "code",
   "execution_count": 20,
   "metadata": {},
   "outputs": [
    {
     "data": {
      "text/plain": [
       "array(['2014-10-31', '2014-10-30', '2014-10-29', ..., '2007-05-03',\n",
       "       '2007-05-02', '2007-05-01'], dtype=object)"
      ]
     },
     "execution_count": 20,
     "metadata": {},
     "output_type": "execute_result"
    }
   ],
   "source": [
    "weather.Date.sort_values(ascending = False).unique()"
   ]
  },
  {
   "cell_type": "markdown",
   "metadata": {},
   "source": [
    "#### Maximum Temperature per Day:"
   ]
  },
  {
   "cell_type": "code",
   "execution_count": 21,
   "metadata": {},
   "outputs": [
    {
     "data": {
      "text/plain": [
       "array([104, 103, 102, 101, 100,  99,  98,  97,  96,  95,  94,  93,  92,\n",
       "        91,  90,  89,  88,  87,  86,  85,  84,  83,  82,  81,  80,  79,\n",
       "        78,  77,  76,  75,  74,  73,  72,  71,  70,  69,  68,  67,  66,\n",
       "        65,  64,  63,  62,  61,  60,  59,  58,  57,  56,  55,  54,  53,\n",
       "        52,  51,  50,  49,  48,  47,  46,  45,  44,  42,  41])"
      ]
     },
     "execution_count": 21,
     "metadata": {},
     "output_type": "execute_result"
    }
   ],
   "source": [
    "weather.Tmax.sort_values(ascending = False).unique()"
   ]
  },
  {
   "cell_type": "code",
   "execution_count": 22,
   "metadata": {},
   "outputs": [
    {
     "data": {
      "text/plain": [
       "<matplotlib.axes._subplots.AxesSubplot at 0x10a28b278>"
      ]
     },
     "execution_count": 22,
     "metadata": {},
     "output_type": "execute_result"
    },
    {
     "data": {
      "image/png": "[encoded data removed]",
      "text/plain": [
       "<matplotlib.figure.Figure at 0x10a254898>"
      ]
     },
     "metadata": {},
     "output_type": "display_data"
    }
   ],
   "source": [
    "sns.distplot(weather.Tmax)"
   ]
  },
  {
   "cell_type": "markdown",
   "metadata": {},
   "source": [
    "#### Minimum Temperature per Day:"
   ]
  },
  {
   "cell_type": "code",
   "execution_count": 23,
   "metadata": {},
   "outputs": [
    {
     "data": {
      "text/plain": [
       "array([83, 82, 81, 80, 79, 78, 77, 76, 75, 74, 73, 72, 71, 70, 69, 68, 67,\n",
       "       66, 65, 64, 63, 62, 61, 60, 59, 58, 57, 56, 55, 54, 53, 52, 51, 50,\n",
       "       49, 48, 47, 46, 45, 44, 43, 42, 41, 40, 39, 38, 37, 36, 35, 34, 33,\n",
       "       32, 31, 29])"
      ]
     },
     "execution_count": 23,
     "metadata": {},
     "output_type": "execute_result"
    }
   ],
   "source": [
    "weather.Tmin.sort_values(ascending = False).unique()"
   ]
  },
  {
   "cell_type": "code",
   "execution_count": 24,
   "metadata": {},
   "outputs": [
    {
     "data": {
      "text/plain": [
       "<matplotlib.axes._subplots.AxesSubplot at 0x10a34d438>"
      ]
     },
     "execution_count": 24,
     "metadata": {},
     "output_type": "execute_result"
    },
    {
     "data": {
      "image/png": "[encoded data removed]",
      "text/plain": [
       "<matplotlib.figure.Figure at 0x10a30e2e8>"
      ]
     },
     "metadata": {},
     "output_type": "display_data"
    }
   ],
   "source": [
    "sns.distplot(weather.Tmin)"
   ]
  },
  {
   "cell_type": "markdown",
   "metadata": {},
   "source": [
    "#### Average Temperature per Day:"
   ]
  },
  {
   "cell_type": "code",
   "execution_count": 25,
   "metadata": {},
   "outputs": [
    {
     "data": {
      "text/plain": [
       "array(['M', '94', '93', '92', '91', '90', '89', '88', '87', '86', '85',\n",
       "       '84', '83', '82', '81', '80', '79', '78', '77', '76', '75', '74',\n",
       "       '73', '72', '71', '70', '69', '68', '67', '66', '65', '64', '63',\n",
       "       '62', '61', '60', '59', '58', '57', '56', '55', '54', '53', '52',\n",
       "       '51', '50', '49', '48', '47', '46', '45', '44', '43', '42', '41',\n",
       "       '40', '39', '38', '37', '36'], dtype=object)"
      ]
     },
     "execution_count": 25,
     "metadata": {},
     "output_type": "execute_result"
    }
   ],
   "source": [
    "weather.Tavg.sort_values(ascending = False).unique()"
   ]
  },
  {
   "cell_type": "markdown",
   "metadata": {},
   "source": [
    "#### DewPoint per Day:\n",
    "\n",
    "- Dew points indicate the amount moisture in the air. The higher the dew points, the higher the moisture content of the air at a given temperature. Dew point temperature is defined as the temperature to which the air would have to cool (at constant pressure and constant water vapor content) in order to reach saturation."
   ]
  },
  {
   "cell_type": "code",
   "execution_count": 26,
   "metadata": {},
   "outputs": [
    {
     "data": {
      "text/plain": [
       "array([75, 74, 73, 72, 71, 70, 69, 68, 67, 66, 65, 64, 63, 62, 61, 60, 59,\n",
       "       58, 57, 56, 55, 54, 53, 52, 51, 50, 49, 48, 47, 46, 45, 44, 43, 42,\n",
       "       41, 40, 39, 38, 37, 36, 35, 34, 33, 32, 31, 30, 29, 28, 27, 26, 25,\n",
       "       24, 23, 22])"
      ]
     },
     "execution_count": 26,
     "metadata": {},
     "output_type": "execute_result"
    }
   ],
   "source": [
    "weather.DewPoint.sort_values(ascending = False).unique()"
   ]
  },
  {
   "cell_type": "code",
   "execution_count": 27,
   "metadata": {},
   "outputs": [
    {
     "data": {
      "text/plain": [
       "<matplotlib.axes._subplots.AxesSubplot at 0x10a3dfba8>"
      ]
     },
     "execution_count": 27,
     "metadata": {},
     "output_type": "execute_result"
    },
    {
     "data": {
      "image/png": "[encoded data removed]",
      "text/plain": [
       "<matplotlib.figure.Figure at 0x10a3bc588>"
      ]
     },
     "metadata": {},
     "output_type": "display_data"
    }
   ],
   "source": [
    "sns.distplot(weather.DewPoint)"
   ]
  },
  {
   "cell_type": "markdown",
   "metadata": {},
   "source": [
    "#### Wet Bulb:"
   ]
  },
  {
   "cell_type": "code",
   "execution_count": 28,
   "metadata": {},
   "outputs": [
    {
     "data": {
      "text/plain": [
       "array(['M', '78', '77', '76', '75', '74', '73', '72', '71', '70', '69',\n",
       "       '68', '67', '66', '65', '64', '63', '62', '61', '60', '59', '58',\n",
       "       '57', '56', '55', '54', '53', '52', '51', '50', '49', '48', '47',\n",
       "       '46', '45', '44', '43', '42', '41', '40', '39', '38', '37', '36',\n",
       "       '35', '34', '33', '32'], dtype=object)"
      ]
     },
     "execution_count": 28,
     "metadata": {},
     "output_type": "execute_result"
    }
   ],
   "source": [
    "weather.WetBulb.sort_values(ascending = False).unique()"
   ]
  },
  {
   "cell_type": "markdown",
   "metadata": {},
   "source": [
    "#### CodeSum Inedex: \n",
    "\n",
    "**Weather Phenomena:**\n",
    "\n",
    "- `+FC TORNADO/WATERSPOUT`\n",
    "- `FC FUNNEL CLOUD`\n",
    "- `TS THUNDERSTORM`\n",
    "- `GR HAIL`\n",
    "- `RA RAIN`\n",
    "- `DZ DRIZZLE`\n",
    "- `SN SNOW`\n",
    "- `SG SNOW GRAINS`\n",
    "- `GS SMALL HAIL &/OR SNOW PELLETS`\n",
    "- `PL ICE PELLETS`\n",
    "- `IC ICE CRYSTALS`\n",
    "- `FG+ HEAVY FOG (FG & LE.25 MILES VISIBILITY)`\n",
    "- `FG FOG`\n",
    "- `BR MIST`\n",
    "- `UP UNKNOWN PRECIPITATION`\n",
    "- `HZ HAZE`\n",
    "- `FU SMOKE`\n",
    "- `VA VOLCANIC ASH`\n",
    "- `DU WIDESPREAD DUST`\n",
    "- `DS DUSTSTORM`\n",
    "- `PO SAND/DUST WHIRLS`\n",
    "- `SA SAND`\n",
    "- `SS SANDSTORM`\n",
    "- `PY SPRAY`\n",
    "- `SQ SQUALL`\n",
    "- `DR LOW DRIFTING`\n",
    "- `SH SHOWER`\n",
    "- `FZ FREEZING`\n",
    "- `MI SHALLOW`\n",
    "- `PR PARTIAL`\n",
    "- `BC PATCHES`\n",
    "- `BL BLOWING`\n",
    "- `VC VICINITY`\n",
    "- `- LIGHT`\n",
    "- `+ HEAVY`\n",
    "- `\"NO SIGN\" MODERATE `\n"
   ]
  },
  {
   "cell_type": "code",
   "execution_count": 29,
   "metadata": {},
   "outputs": [
    {
     "data": {
      "text/plain": [
       "array(['VCTS', 'TSRA RA VCTS', 'TSRA RA HZ FU', 'TSRA RA HZ',\n",
       "       'TSRA RA FG+ FG BR HZ', 'TSRA RA FG+ FG BR', 'TSRA RA FG+ BR',\n",
       "       'TSRA RA FG BR', 'TSRA RA DZ BR HZ', 'TSRA RA DZ BR',\n",
       "       'TSRA RA BR VCTS', 'TSRA RA BR HZ VCTS', 'TSRA RA BR HZ',\n",
       "       'TSRA RA BR', 'TSRA RA', 'TSRA HZ', 'TSRA FG+ BR HZ',\n",
       "       'TSRA FG+ BR', 'TSRA DZ FG+ FG BR HZ', 'TSRA DZ BR HZ',\n",
       "       'TSRA BR SQ', 'TSRA BR HZ VCTS', 'TSRA BR HZ FU', 'TSRA BR HZ',\n",
       "       'TSRA BR', 'TSRA', 'TS TSRA VCFG', 'TS TSRA RA VCTS',\n",
       "       'TS TSRA RA HZ', 'TS TSRA RA FG BR HZ', 'TS TSRA RA FG BR',\n",
       "       'TS TSRA RA BR VCTS', 'TS TSRA RA BR HZ VCTS', 'TS TSRA RA BR HZ',\n",
       "       'TS TSRA RA BR', 'TS TSRA RA', 'TS TSRA HZ', 'TS TSRA GR RA BR',\n",
       "       'TS TSRA BR HZ', 'TS TSRA BR', 'TS TSRA', 'TS RA FG+ FG BR',\n",
       "       'TS RA BR HZ', 'TS RA BR', 'TS RA', 'TS HZ', 'TS BR HZ', 'TS BR',\n",
       "       'TS', 'RA VCTS', 'RA SN BR', 'RA SN', 'RA HZ', 'RA FG+ MIFG BR',\n",
       "       'RA FG+ BR', 'RA FG BR', 'RA DZ SN', 'RA DZ FG+ FG BR',\n",
       "       'RA DZ FG+ BR HZ', 'RA DZ FG+ BR', 'RA DZ FG+ BCFG BR',\n",
       "       'RA DZ BR HZ', 'RA DZ BR', 'RA DZ', 'RA BR VCTS', 'RA BR VCFG',\n",
       "       'RA BR SQ', 'RA BR HZ VCTS', 'RA BR HZ VCFG', 'RA BR HZ FU',\n",
       "       'RA BR HZ', 'RA BR FU', 'RA BR', 'RA BCFG BR', 'RA',\n",
       "       'MIFG BCFG BR', 'HZ VCTS', 'HZ FU', 'HZ', 'FU', 'FG+ MIFG BR',\n",
       "       'FG+ FG BR HZ', 'FG+ FG BR', 'FG+ BR HZ', 'FG+ BR', 'FG+ BCFG BR',\n",
       "       'FG+', 'FG BR HZ', 'DZ BR HZ', 'DZ BR', 'DZ', 'BR VCTS',\n",
       "       'BR HZ VCFG', 'BR HZ FU', 'BR HZ', 'BR', 'BCFG BR', ' '],\n",
       "      dtype=object)"
      ]
     },
     "execution_count": 29,
     "metadata": {},
     "output_type": "execute_result"
    }
   ],
   "source": [
    "weather.CodeSum.sort_values(ascending = False).unique()"
   ]
  },
  {
   "cell_type": "markdown",
   "metadata": {},
   "source": [
    "#### Wind Direction:\n",
    "\n",
    "- Vector as a combination of the vector's magnitude (length) and its direction (of the wind)."
   ]
  },
  {
   "cell_type": "code",
   "execution_count": 30,
   "metadata": {},
   "outputs": [
    {
     "data": {
      "text/plain": [
       "array([36, 35, 34, 33, 32, 31, 30, 29, 28, 27, 26, 25, 24, 23, 22, 21, 20,\n",
       "       19, 18, 17, 16, 15, 14, 13, 12, 11, 10,  9,  8,  7,  6,  5,  4,  3,\n",
       "        2,  1])"
      ]
     },
     "execution_count": 30,
     "metadata": {},
     "output_type": "execute_result"
    }
   ],
   "source": [
    "weather.ResultDir.sort_values(ascending = False).unique()"
   ]
  },
  {
   "cell_type": "code",
   "execution_count": 31,
   "metadata": {},
   "outputs": [
    {
     "data": {
      "text/plain": [
       "<matplotlib.axes._subplots.AxesSubplot at 0x10a46f9e8>"
      ]
     },
     "execution_count": 31,
     "metadata": {},
     "output_type": "execute_result"
    },
    {
     "data": {
      "image/png": "[encoded data removed]",
      "text/plain": [
       "<matplotlib.figure.Figure at 0x10b4bbb38>"
      ]
     },
     "metadata": {},
     "output_type": "display_data"
    }
   ],
   "source": [
    "sns.distplot(weather.ResultDir)"
   ]
  },
  {
   "cell_type": "markdown",
   "metadata": {},
   "source": [
    "#### Average Wind Speed:\n",
    "\n",
    "- Resultant wind speed values are obtained by converting the 5-minute wind speeds and directions for the hour into a single hourly vector. Resultant wind speed is the magnitude of this vector."
   ]
  },
  {
   "cell_type": "code",
   "execution_count": 32,
   "metadata": {},
   "outputs": [
    {
     "data": {
      "text/plain": [
       "array(['M', '9.9', '9.8', '9.7', '9.6', '9.5', '9.4', '9.3', '9.2', '9.1',\n",
       "       '9.0', '8.9', '8.8', '8.7', '8.6', '8.5', '8.4', '8.3', '8.2',\n",
       "       '8.1', '8.0', '7.9', '7.8', '7.7', '7.6', '7.5', '7.4', '7.3',\n",
       "       '7.2', '7.1', '7.0', '6.9', '6.8', '6.7', '6.6', '6.5', '6.4',\n",
       "       '6.3', '6.2', '6.1', '6.0', '5.9', '5.8', '5.7', '5.6', '5.5',\n",
       "       '5.4', '5.3', '5.2', '5.1', '5.0', '4.9', '4.8', '4.7', '4.6',\n",
       "       '4.5', '4.4', '4.3', '4.2', '4.1', '4.0', '3.9', '3.8', '3.7',\n",
       "       '3.6', '3.5', '3.4', '3.3', '3.2', '3.1', '3.0', '26.3', '23.2',\n",
       "       '23.1', '22.9', '22.6', '22.1', '21.5', '21.4', '20.7', '20.2',\n",
       "       '2.9', '2.8', '2.7', '2.6', '2.4', '2.3', '2.1', '2.0', '19.9',\n",
       "       '19.5', '19.3', '18.9', '18.8', '18.5', '18.4', '18.2', '18.1',\n",
       "       '18.0', '17.9', '17.8', '17.7', '17.6', '17.4', '17.3', '17.2',\n",
       "       '17.1', '16.9', '16.8', '16.7', '16.6', '16.4', '16.3', '16.2',\n",
       "       '16.1', '16.0', '15.9', '15.8', '15.7', '15.6', '15.5', '15.4',\n",
       "       '15.3', '15.2', '15.1', '15.0', '14.9', '14.8', '14.7', '14.6',\n",
       "       '14.5', '14.4', '14.3', '14.2', '14.1', '14.0', '13.9', '13.8',\n",
       "       '13.7', '13.6', '13.5', '13.4', '13.3', '13.2', '13.1', '13.0',\n",
       "       '12.9', '12.8', '12.7', '12.6', '12.5', '12.4', '12.3', '12.2',\n",
       "       '12.1', '12.0', '11.9', '11.8', '11.7', '11.6', '11.5', '11.4',\n",
       "       '11.3', '11.2', '11.1', '11.0', '10.9', '10.8', '10.7', '10.6',\n",
       "       '10.5', '10.4', '10.3', '10.2', '10.1', '10.0', '1.9', '1.7'],\n",
       "      dtype=object)"
      ]
     },
     "execution_count": 32,
     "metadata": {},
     "output_type": "execute_result"
    }
   ],
   "source": [
    "weather.AvgSpeed.sort_values(ascending = False).unique()"
   ]
  },
  {
   "cell_type": "code",
   "execution_count": null,
   "metadata": {},
   "outputs": [],
   "source": []
  },
  {
   "cell_type": "markdown",
   "metadata": {},
   "source": [
    "---------"
   ]
  },
  {
   "cell_type": "markdown",
   "metadata": {},
   "source": [
    "## Cleaning Missing Values:\n",
    "\n",
    "#### Cleaning Code Sum:\n",
    "\n"
   ]
  },
  {
   "cell_type": "code",
   "execution_count": 33,
   "metadata": {},
   "outputs": [],
   "source": [
    "weather.replace(' ', 'NA', inplace=True)"
   ]
  },
  {
   "cell_type": "markdown",
   "metadata": {},
   "source": [
    "#### Cleaning Average Temperature:"
   ]
  },
  {
   "cell_type": "code",
   "execution_count": 34,
   "metadata": {},
   "outputs": [],
   "source": [
    "weather.Tavg.replace('M', 0.0, inplace=True);  # 11 Missing Values"
   ]
  },
  {
   "cell_type": "code",
   "execution_count": 35,
   "metadata": {},
   "outputs": [],
   "source": [
    "weather.Tavg = weather.Tavg.astype('float32')"
   ]
  },
  {
   "cell_type": "code",
   "execution_count": 36,
   "metadata": {},
   "outputs": [
    {
     "data": {
      "text/plain": [
       "<matplotlib.axes._subplots.AxesSubplot at 0x10a4207b8>"
      ]
     },
     "execution_count": 36,
     "metadata": {},
     "output_type": "execute_result"
    },
    {
     "data": {
      "image/png": "[encoded data removed]",
      "text/plain": [
       "<matplotlib.figure.Figure at 0x10b4b6470>"
      ]
     },
     "metadata": {},
     "output_type": "display_data"
    }
   ],
   "source": [
    "sns.distplot(weather.Tavg)"
   ]
  },
  {
   "cell_type": "markdown",
   "metadata": {},
   "source": [
    "#### Cleaning Wet Bulb:"
   ]
  },
  {
   "cell_type": "code",
   "execution_count": 37,
   "metadata": {},
   "outputs": [],
   "source": [
    "weather.WetBulb.replace('M', 0, inplace=True); # 11"
   ]
  },
  {
   "cell_type": "code",
   "execution_count": 38,
   "metadata": {},
   "outputs": [],
   "source": [
    "weather.WetBulb = weather.WetBulb.astype(int)"
   ]
  },
  {
   "cell_type": "code",
   "execution_count": 39,
   "metadata": {},
   "outputs": [
    {
     "data": {
      "text/plain": [
       "<matplotlib.axes._subplots.AxesSubplot at 0x10b5bac18>"
      ]
     },
     "execution_count": 39,
     "metadata": {},
     "output_type": "execute_result"
    },
    {
     "data": {
      "image/png": "[encoded data removed]",
      "text/plain": [
       "<matplotlib.figure.Figure at 0x10b62e9e8>"
      ]
     },
     "metadata": {},
     "output_type": "display_data"
    }
   ],
   "source": [
    "sns.distplot(weather.WetBulb)"
   ]
  },
  {
   "cell_type": "markdown",
   "metadata": {},
   "source": [
    "#### Cleaning Total Precipitation:"
   ]
  },
  {
   "cell_type": "code",
   "execution_count": 40,
   "metadata": {},
   "outputs": [
    {
     "data": {
      "text/plain": [
       "2"
      ]
     },
     "execution_count": 40,
     "metadata": {},
     "output_type": "execute_result"
    }
   ],
   "source": [
    "sum(weather.PrecipTotal == 'M')"
   ]
  },
  {
   "cell_type": "code",
   "execution_count": 41,
   "metadata": {},
   "outputs": [
    {
     "data": {
      "text/plain": [
       "318"
      ]
     },
     "execution_count": 41,
     "metadata": {},
     "output_type": "execute_result"
    }
   ],
   "source": [
    "sum(weather.PrecipTotal == '  T')"
   ]
  },
  {
   "cell_type": "code",
   "execution_count": 42,
   "metadata": {},
   "outputs": [],
   "source": [
    "weather.PrecipTotal.replace('M', 0.0, inplace=True);\n",
    "weather.PrecipTotal.replace('  T', 0.0, inplace=True); ## What to do with T"
   ]
  },
  {
   "cell_type": "code",
   "execution_count": 43,
   "metadata": {},
   "outputs": [],
   "source": [
    "weather.PrecipTotal = weather.PrecipTotal.astype('float32')"
   ]
  },
  {
   "cell_type": "markdown",
   "metadata": {},
   "source": [
    "#### Cleaning Average Wind Speed:"
   ]
  },
  {
   "cell_type": "code",
   "execution_count": 44,
   "metadata": {},
   "outputs": [],
   "source": [
    "weather.AvgSpeed.replace('M', 0.0, inplace=True); # 3 missing values"
   ]
  },
  {
   "cell_type": "code",
   "execution_count": 45,
   "metadata": {},
   "outputs": [],
   "source": [
    "weather.AvgSpeed = weather.AvgSpeed.astype('float32')"
   ]
  },
  {
   "cell_type": "code",
   "execution_count": 46,
   "metadata": {},
   "outputs": [
    {
     "data": {
      "text/plain": [
       "<matplotlib.axes._subplots.AxesSubplot at 0x10b7d37b8>"
      ]
     },
     "execution_count": 46,
     "metadata": {},
     "output_type": "execute_result"
    },
    {
     "data": {
      "image/png": "[encoded data removed]",
      "text/plain": [
       "<matplotlib.figure.Figure at 0x10b750710>"
      ]
     },
     "metadata": {},
     "output_type": "display_data"
    }
   ],
   "source": [
    "sns.distplot(weather.AvgSpeed)"
   ]
  },
  {
   "cell_type": "markdown",
   "metadata": {},
   "source": [
    "#### Cleaning Heat - July through December:\n",
    "\n",
    "- A measure of how much (in degrees), and for how long (in days), outside air temperature was lower than a specific \"base temperature\" (or \"balance point\"). They are used for calculations relating to the energy consumption required to heat buildings.\n"
   ]
  },
  {
   "cell_type": "code",
   "execution_count": 47,
   "metadata": {},
   "outputs": [],
   "source": [
    "# sum(weather.Heat == 'M')"
   ]
  },
  {
   "cell_type": "code",
   "execution_count": 48,
   "metadata": {},
   "outputs": [],
   "source": [
    "# weather.Heat.replace('M', 0, inplace=True); # 11 missing values"
   ]
  },
  {
   "cell_type": "code",
   "execution_count": 49,
   "metadata": {},
   "outputs": [],
   "source": [
    "# weather.Heat = weather.Heat.astype(int)"
   ]
  },
  {
   "cell_type": "code",
   "execution_count": 50,
   "metadata": {},
   "outputs": [],
   "source": [
    "# sns.distplot(weather.Heat);"
   ]
  },
  {
   "cell_type": "markdown",
   "metadata": {},
   "source": [
    "#### Cleaning Cool - January through June:\n",
    "\n",
    "- \"Cooling degree days\", or \"CDD\", are a measure of how much (in degrees), and for how long (in days), outside air temperature was higher than a specific base temperature. They are used for calculations relating to the energy consumption required to cool buildings."
   ]
  },
  {
   "cell_type": "code",
   "execution_count": 51,
   "metadata": {},
   "outputs": [],
   "source": [
    "# sum(weather.Cool == 'M')"
   ]
  },
  {
   "cell_type": "code",
   "execution_count": 52,
   "metadata": {},
   "outputs": [],
   "source": [
    "# weather.Cool.replace('M', 0, inplace=True); # 11 missing values"
   ]
  },
  {
   "cell_type": "code",
   "execution_count": 53,
   "metadata": {},
   "outputs": [],
   "source": [
    "# weather.Cool = weather.Cool.astype(int)"
   ]
  },
  {
   "cell_type": "markdown",
   "metadata": {},
   "source": [
    "#### Cleaning - Pressure\n",
    "\n",
    "- INCHES OF HG"
   ]
  },
  {
   "cell_type": "code",
   "execution_count": 54,
   "metadata": {},
   "outputs": [
    {
     "data": {
      "text/plain": [
       "4"
      ]
     },
     "execution_count": 54,
     "metadata": {},
     "output_type": "execute_result"
    }
   ],
   "source": [
    "sum(weather.StnPressure == 'M')"
   ]
  },
  {
   "cell_type": "code",
   "execution_count": 55,
   "metadata": {},
   "outputs": [],
   "source": [
    "weather.StnPressure.replace('M', 0, inplace=True); # 11 missing values"
   ]
  },
  {
   "cell_type": "code",
   "execution_count": 56,
   "metadata": {},
   "outputs": [],
   "source": [
    "weather.StnPressure = weather.StnPressure.astype('float32')"
   ]
  },
  {
   "cell_type": "markdown",
   "metadata": {},
   "source": [
    "#### Cleaning - Sunrise:"
   ]
  },
  {
   "cell_type": "code",
   "execution_count": null,
   "metadata": {},
   "outputs": [],
   "source": [
    "datetime_object = datetime.strptime('Jun 1 2005  1:33PM', '%b %d %Y %I:%M%p')"
   ]
  },
  {
   "cell_type": "code",
   "execution_count": 127,
   "metadata": {},
   "outputs": [
    {
     "ename": "AttributeError",
     "evalue": "'Series' object has no attribute 'strftime'",
     "output_type": "error",
     "traceback": [
      "\u001b[0;31m---------------------------------------------------------------------------\u001b[0m",
      "\u001b[0;31mAttributeError\u001b[0m                            Traceback (most recent call last)",
      "\u001b[0;32m<ipython-input-127-4fd97a45d866>\u001b[0m in \u001b[0;36m<module>\u001b[0;34m()\u001b[0m\n\u001b[0;32m----> 1\u001b[0;31m \u001b[0mweather\u001b[0m\u001b[0;34m.\u001b[0m\u001b[0mSunrise\u001b[0m\u001b[0;34m.\u001b[0m\u001b[0mstrftime\u001b[0m\u001b[0;34m(\u001b[0m\u001b[0;34m)\u001b[0m\u001b[0;34m\u001b[0m\u001b[0m\n\u001b[0m",
      "\u001b[0;32m~/anaconda3/lib/python3.6/site-packages/pandas/core/generic.py\u001b[0m in \u001b[0;36m__getattr__\u001b[0;34m(self, name)\u001b[0m\n\u001b[1;32m   3612\u001b[0m             \u001b[0;32mif\u001b[0m \u001b[0mname\u001b[0m \u001b[0;32min\u001b[0m \u001b[0mself\u001b[0m\u001b[0;34m.\u001b[0m\u001b[0m_info_axis\u001b[0m\u001b[0;34m:\u001b[0m\u001b[0;34m\u001b[0m\u001b[0m\n\u001b[1;32m   3613\u001b[0m                 \u001b[0;32mreturn\u001b[0m \u001b[0mself\u001b[0m\u001b[0;34m[\u001b[0m\u001b[0mname\u001b[0m\u001b[0;34m]\u001b[0m\u001b[0;34m\u001b[0m\u001b[0m\n\u001b[0;32m-> 3614\u001b[0;31m             \u001b[0;32mreturn\u001b[0m \u001b[0mobject\u001b[0m\u001b[0;34m.\u001b[0m\u001b[0m__getattribute__\u001b[0m\u001b[0;34m(\u001b[0m\u001b[0mself\u001b[0m\u001b[0;34m,\u001b[0m \u001b[0mname\u001b[0m\u001b[0;34m)\u001b[0m\u001b[0;34m\u001b[0m\u001b[0m\n\u001b[0m\u001b[1;32m   3615\u001b[0m \u001b[0;34m\u001b[0m\u001b[0m\n\u001b[1;32m   3616\u001b[0m     \u001b[0;32mdef\u001b[0m \u001b[0m__setattr__\u001b[0m\u001b[0;34m(\u001b[0m\u001b[0mself\u001b[0m\u001b[0;34m,\u001b[0m \u001b[0mname\u001b[0m\u001b[0;34m,\u001b[0m \u001b[0mvalue\u001b[0m\u001b[0;34m)\u001b[0m\u001b[0;34m:\u001b[0m\u001b[0;34m\u001b[0m\u001b[0m\n",
      "\u001b[0;31mAttributeError\u001b[0m: 'Series' object has no attribute 'strftime'"
     ]
    }
   ],
   "source": [
    "weather.Sunrise.strftime()"
   ]
  },
  {
   "cell_type": "code",
   "execution_count": null,
   "metadata": {},
   "outputs": [],
   "source": []
  },
  {
   "cell_type": "code",
   "execution_count": null,
   "metadata": {},
   "outputs": [],
   "source": []
  },
  {
   "cell_type": "code",
   "execution_count": null,
   "metadata": {},
   "outputs": [],
   "source": []
  },
  {
   "cell_type": "code",
   "execution_count": null,
   "metadata": {},
   "outputs": [],
   "source": []
  },
  {
   "cell_type": "markdown",
   "metadata": {},
   "source": [
    "-----\n",
    "\n",
    "## Feature Engineering CodeSum Values:"
   ]
  },
  {
   "cell_type": "markdown",
   "metadata": {},
   "source": [
    "#### Combining - Rain/Drizzle:\n",
    "\n",
    "- TS THUNDERSTORM\n",
    "- GR HAIL\n",
    "- RA RAIN\n",
    "- DZ DRIZZLE\n",
    "- SH SHOWER"
   ]
  },
  {
   "cell_type": "code",
   "execution_count": 57,
   "metadata": {},
   "outputs": [],
   "source": [
    "rain = ['RA', 'DZ', 'SH', 'TS', 'GR']"
   ]
  },
  {
   "cell_type": "code",
   "execution_count": 58,
   "metadata": {},
   "outputs": [],
   "source": [
    "def filter_codesum(x):\n",
    "    for code in rain:\n",
    "        if code in x:\n",
    "            return 1\n",
    "        else:\n",
    "            return 0"
   ]
  },
  {
   "cell_type": "code",
   "execution_count": 59,
   "metadata": {},
   "outputs": [],
   "source": [
    "weather['rain'] = weather.CodeSum.apply(filter_codesum)"
   ]
  },
  {
   "cell_type": "code",
   "execution_count": 60,
   "metadata": {},
   "outputs": [
    {
     "data": {
      "text/plain": [
       "0    1909\n",
       "1    1035\n",
       "Name: rain, dtype: int64"
      ]
     },
     "execution_count": 60,
     "metadata": {},
     "output_type": "execute_result"
    }
   ],
   "source": [
    "weather.rain.value_counts()"
   ]
  },
  {
   "cell_type": "code",
   "execution_count": 61,
   "metadata": {},
   "outputs": [],
   "source": [
    "#weather[weather.rain != 0]"
   ]
  },
  {
   "cell_type": "markdown",
   "metadata": {},
   "source": [
    "#### Combining - Snow:\n",
    "\n",
    "- SN SNOW\n",
    "- SG SNOW GRAINS\n",
    "- GS SMALL HAIL &/OR SNOW PELLETS\n",
    "- PL ICE PELLETS\n",
    "- IC ICE CRYSTALS\n",
    "- DR LOW DRIFTING*\n",
    "- BC PATCHES*"
   ]
  },
  {
   "cell_type": "code",
   "execution_count": 62,
   "metadata": {},
   "outputs": [],
   "source": [
    "snow = ['SN','SG','GS','PL','IC','DR','BC']"
   ]
  },
  {
   "cell_type": "code",
   "execution_count": 63,
   "metadata": {},
   "outputs": [],
   "source": [
    "def filter_codesum(x):\n",
    "    for code in snow:\n",
    "        if code in x:\n",
    "            return 1\n",
    "#         elif:\n",
    "        else:\n",
    "            return 0"
   ]
  },
  {
   "cell_type": "code",
   "execution_count": 64,
   "metadata": {},
   "outputs": [],
   "source": [
    "weather['snow'] = weather.CodeSum.apply(filter_codesum)"
   ]
  },
  {
   "cell_type": "code",
   "execution_count": 65,
   "metadata": {},
   "outputs": [
    {
     "data": {
      "text/plain": [
       "0    2938\n",
       "1       6\n",
       "Name: snow, dtype: int64"
      ]
     },
     "execution_count": 65,
     "metadata": {},
     "output_type": "execute_result"
    }
   ],
   "source": [
    "weather.snow.value_counts()"
   ]
  },
  {
   "cell_type": "markdown",
   "metadata": {},
   "source": [
    "#### Combining - Fog/Mist:\n",
    "- `FG+ HEAVY FOG (FG & LE.25 MILES VISIBILITY)`\n",
    "- `FG FOG`\n",
    "- `BR MIST`"
   ]
  },
  {
   "cell_type": "code",
   "execution_count": 66,
   "metadata": {},
   "outputs": [],
   "source": [
    "# fog = ['FG+','FG','BR']"
   ]
  },
  {
   "cell_type": "code",
   "execution_count": 67,
   "metadata": {},
   "outputs": [],
   "source": [
    "# def filter_codesum(x):\n",
    "#     for code in fog:\n",
    "#         if code in x:\n",
    "#             return 1\n",
    "#         else:\n",
    "#             return 0"
   ]
  },
  {
   "cell_type": "code",
   "execution_count": 68,
   "metadata": {},
   "outputs": [],
   "source": [
    "# weather['fog'] = weather.CodeSum.apply(filter_codesum)"
   ]
  },
  {
   "cell_type": "code",
   "execution_count": 69,
   "metadata": {},
   "outputs": [],
   "source": [
    "# weather.fog.value_counts()"
   ]
  },
  {
   "cell_type": "markdown",
   "metadata": {},
   "source": [
    "### Filtering Weather Dates using Spray Dates:"
   ]
  },
  {
   "cell_type": "code",
   "execution_count": 70,
   "metadata": {},
   "outputs": [],
   "source": [
    "dates_list = spray.Date.value_counts().index"
   ]
  },
  {
   "cell_type": "code",
   "execution_count": 71,
   "metadata": {},
   "outputs": [],
   "source": [
    "weather.Date = pd.to_datetime(weather.Date, dayfirst=True)"
   ]
  },
  {
   "cell_type": "code",
   "execution_count": 72,
   "metadata": {},
   "outputs": [],
   "source": [
    "weather.loc[(weather['AvgSpeed'] > 5) & (weather['Date'].isin(dates_list)), 'spray_ineffective']=1"
   ]
  },
  {
   "cell_type": "code",
   "execution_count": 73,
   "metadata": {},
   "outputs": [],
   "source": [
    "weather.spray_ineffective.fillna(0, inplace=True)"
   ]
  },
  {
   "cell_type": "code",
   "execution_count": null,
   "metadata": {},
   "outputs": [],
   "source": []
  },
  {
   "cell_type": "markdown",
   "metadata": {},
   "source": [
    "## Calculating Relative Humidity:\n",
    "\n",
    "- Celsius = (Fahrenheit - 32) * 5.0/9.0\n",
    "\n",
    "\n",
    "- Relative Humidity Formula = 100 * (EXP((17.625 * Dew Point) / (243.04 + Dew Point)) / EXP((17.625 * Temperature) / (243.04 + Temperature)))"
   ]
  },
  {
   "cell_type": "markdown",
   "metadata": {},
   "source": [
    "#### Converting to Celsius:"
   ]
  },
  {
   "cell_type": "code",
   "execution_count": 74,
   "metadata": {},
   "outputs": [],
   "source": [
    "def celsius(x):\n",
    "    c = ((x - 32) * 5.0)/9.0\n",
    "    return float(c)"
   ]
  },
  {
   "cell_type": "code",
   "execution_count": 75,
   "metadata": {},
   "outputs": [],
   "source": [
    "# weather['DewPoint'];"
   ]
  },
  {
   "cell_type": "code",
   "execution_count": 76,
   "metadata": {},
   "outputs": [],
   "source": [
    "# weather['DewPoint'].apply(celsius);"
   ]
  },
  {
   "cell_type": "code",
   "execution_count": 77,
   "metadata": {},
   "outputs": [],
   "source": [
    "# weather['DewPoint'] = weather['DewPoint'].apply(celsius)"
   ]
  },
  {
   "cell_type": "code",
   "execution_count": 78,
   "metadata": {},
   "outputs": [],
   "source": [
    "# weather['Tavg'] = weather['Tavg'].apply(celsius)"
   ]
  },
  {
   "cell_type": "code",
   "execution_count": 79,
   "metadata": {},
   "outputs": [],
   "source": [
    "# weather['Tmax'] = weather['Tmax'].apply(celsius)"
   ]
  },
  {
   "cell_type": "code",
   "execution_count": 80,
   "metadata": {},
   "outputs": [],
   "source": [
    "# weather['Tmin'] = weather['Tmin'].apply(celsius)"
   ]
  },
  {
   "cell_type": "code",
   "execution_count": 81,
   "metadata": {},
   "outputs": [],
   "source": [
    "weather['relative_humidity'] = 100 * (np.exp((17.625 * weather.DewPoint.apply(celsius)) / (243.04 + weather.DewPoint.apply(celsius))) / np.exp((17.625 * weather.Tavg.apply(celsius)) / (243.04 + weather.Tavg.apply(celsius))))"
   ]
  },
  {
   "cell_type": "code",
   "execution_count": 130,
   "metadata": {},
   "outputs": [
    {
     "data": {
      "text/plain": [
       "count    2944.000000\n",
       "mean       65.449709\n",
       "std        58.703646\n",
       "min        29.993924\n",
       "25%        54.254069\n",
       "50%        61.777544\n",
       "75%        69.620628\n",
       "max      1643.760678\n",
       "Name: relative_humidity, dtype: float64"
      ]
     },
     "execution_count": 130,
     "metadata": {},
     "output_type": "execute_result"
    }
   ],
   "source": [
    "weather['relative_humidity'].describe()"
   ]
  },
  {
   "cell_type": "markdown",
   "metadata": {},
   "source": [
    "## Ideal Enviornment for Blood-Feeding Activity:\n",
    "\n",
    "Gonotrophic dissociation \n",
    "\n",
    "https://lib.dr.iastate.edu/cgi/viewcontent.cgi?referer=https://www.google.com/&httpsredir=1&article=7851&context=rtd\n",
    "\n",
    "Blood-Feeding Activity: \n",
    "\n",
    "- Restauns: The blood-feeding activity of Cx restuans is also influenced by temperature. Blood feeding activity of females increased under the short photoperiod regime at high temperature (27°C). \n",
    "\n",
    "- Pipiens: This species is not normally active during the day but commences biting around dusk. Activity ceases shortly after dark, but biting activity occurs again for a short period around sunrise (Headlee, 1931). \n",
    "\n",
    "Formula:\n",
    "- Air temperature T in °C, precipitation P in mm/day, relative humidity H in % (calculated from air and dew point temperature) and wind speed W in m/s were selected for this study as quantities potentially influencing mosquito abundance. \n",
    "- Another quantity, influencing mosquito diapause, is the daytime length D in hours"
   ]
  },
  {
   "cell_type": "code",
   "execution_count": 82,
   "metadata": {},
   "outputs": [],
   "source": [
    "weather.loc[(weather['Tavg'] >= 59) & (weather['Tavg'] <= 86) & (weather['relative_humidity'] >= 8) & (weather['relative_humidity'] <= 72) & (weather['AvgSpeed'] < 6), 'feeding']=1"
   ]
  },
  {
   "cell_type": "code",
   "execution_count": 83,
   "metadata": {},
   "outputs": [],
   "source": [
    "weather.feeding.fillna(0, inplace=True)"
   ]
  },
  {
   "cell_type": "code",
   "execution_count": 84,
   "metadata": {},
   "outputs": [
    {
     "data": {
      "text/plain": [
       "0.0    2530\n",
       "1.0     414\n",
       "Name: feeding, dtype: int64"
      ]
     },
     "execution_count": 84,
     "metadata": {},
     "output_type": "execute_result"
    }
   ],
   "source": [
    "weather.feeding.value_counts()"
   ]
  },
  {
   "cell_type": "markdown",
   "metadata": {},
   "source": [
    "\n",
    "The ranges of the weather T, RH and WV were determined for Cx. pipiens and Cx. quinquefasciatus and results (Table 1) revealed that the two species had the same ranges of T (15.00-30.00°C), RH (8.00-72.00%) and WV (0.10-8.06 Km/h). Cx. quinquefasciatus had insignificantly (P>0.05) lower means of T (25.20°C), RH (36.63%) and WV (2.24 Km/h) than those of Cx .pipiens (25.53°C, 38.36% and 2.33 Km/h for the 3 factors, respectively)\n",
    "\n"
   ]
  },
  {
   "cell_type": "code",
   "execution_count": 85,
   "metadata": {},
   "outputs": [],
   "source": [
    "# weather.sort_values('Tavg', ascending=False).head(2)"
   ]
  },
  {
   "cell_type": "markdown",
   "metadata": {},
   "source": [
    "## Ideal Environment for Mosquitos:"
   ]
  },
  {
   "cell_type": "code",
   "execution_count": 86,
   "metadata": {},
   "outputs": [],
   "source": [
    "weather.loc[(weather['Tavg'] >= 50) & (weather['Tavg'] <= 95) & (weather['relative_humidity'] < 95) & (weather['relative_humidity'] > 40) & (weather['AvgSpeed'] < 6), 'ideal_environment']=1"
   ]
  },
  {
   "cell_type": "code",
   "execution_count": 87,
   "metadata": {},
   "outputs": [],
   "source": [
    "weather.ideal_environment.fillna(0, inplace=True)"
   ]
  },
  {
   "cell_type": "code",
   "execution_count": 88,
   "metadata": {},
   "outputs": [
    {
     "data": {
      "text/plain": [
       "0.0    2363\n",
       "1.0     581\n",
       "Name: ideal_environment, dtype: int64"
      ]
     },
     "execution_count": 88,
     "metadata": {},
     "output_type": "execute_result"
    }
   ],
   "source": [
    "weather.ideal_environment.value_counts()"
   ]
  },
  {
   "cell_type": "code",
   "execution_count": null,
   "metadata": {},
   "outputs": [],
   "source": []
  },
  {
   "cell_type": "markdown",
   "metadata": {},
   "source": [
    "## Days"
   ]
  },
  {
   "cell_type": "code",
   "execution_count": 89,
   "metadata": {},
   "outputs": [],
   "source": [
    "def days_between(d1, d2):\n",
    "    d1 = datetime.strptime(d1, \"%Y-%m-%d\")\n",
    "    d2 = datetime.strptime(d2, \"%Y-%m-%d\")\n",
    "    return abs((d2 - d1).days)"
   ]
  },
  {
   "cell_type": "code",
   "execution_count": null,
   "metadata": {},
   "outputs": [],
   "source": []
  },
  {
   "cell_type": "code",
   "execution_count": 90,
   "metadata": {},
   "outputs": [],
   "source": [
    "weather.groupby('Tavg').CodeSum.value_counts(ascending=False);"
   ]
  },
  {
   "cell_type": "code",
   "execution_count": 128,
   "metadata": {},
   "outputs": [
    {
     "data": {
      "text/html": [
       "<div>\n",
       "<style scoped>\n",
       "    .dataframe tbody tr th:only-of-type {\n",
       "        vertical-align: middle;\n",
       "    }\n",
       "\n",
       "    .dataframe tbody tr th {\n",
       "        vertical-align: top;\n",
       "    }\n",
       "\n",
       "    .dataframe thead th {\n",
       "        text-align: right;\n",
       "    }\n",
       "</style>\n",
       "<table border=\"1\" class=\"dataframe\">\n",
       "  <thead>\n",
       "    <tr style=\"text-align: right;\">\n",
       "      <th></th>\n",
       "      <th>Station</th>\n",
       "      <th>Date</th>\n",
       "      <th>Tmax</th>\n",
       "      <th>Tmin</th>\n",
       "      <th>Tavg</th>\n",
       "      <th>DewPoint</th>\n",
       "      <th>WetBulb</th>\n",
       "      <th>Sunrise</th>\n",
       "      <th>Sunset</th>\n",
       "      <th>CodeSum</th>\n",
       "      <th>PrecipTotal</th>\n",
       "      <th>StnPressure</th>\n",
       "      <th>ResultDir</th>\n",
       "      <th>AvgSpeed</th>\n",
       "      <th>rain</th>\n",
       "      <th>snow</th>\n",
       "      <th>spray_ineffective</th>\n",
       "      <th>relative_humidity</th>\n",
       "      <th>feeding</th>\n",
       "      <th>ideal_environment</th>\n",
       "    </tr>\n",
       "  </thead>\n",
       "  <tbody>\n",
       "    <tr>\n",
       "      <th>0</th>\n",
       "      <td>1</td>\n",
       "      <td>2007-05-01</td>\n",
       "      <td>83</td>\n",
       "      <td>50</td>\n",
       "      <td>67.0</td>\n",
       "      <td>51</td>\n",
       "      <td>56</td>\n",
       "      <td>0448</td>\n",
       "      <td>1849</td>\n",
       "      <td>NA</td>\n",
       "      <td>0.00</td>\n",
       "      <td>29.100000</td>\n",
       "      <td>27</td>\n",
       "      <td>9.2</td>\n",
       "      <td>0</td>\n",
       "      <td>0</td>\n",
       "      <td>0.0</td>\n",
       "      <td>56.438576</td>\n",
       "      <td>0.0</td>\n",
       "      <td>0.0</td>\n",
       "    </tr>\n",
       "    <tr>\n",
       "      <th>1</th>\n",
       "      <td>2</td>\n",
       "      <td>2007-05-01</td>\n",
       "      <td>84</td>\n",
       "      <td>52</td>\n",
       "      <td>68.0</td>\n",
       "      <td>51</td>\n",
       "      <td>57</td>\n",
       "      <td>-</td>\n",
       "      <td>-</td>\n",
       "      <td>NA</td>\n",
       "      <td>0.00</td>\n",
       "      <td>29.180000</td>\n",
       "      <td>25</td>\n",
       "      <td>9.6</td>\n",
       "      <td>0</td>\n",
       "      <td>0</td>\n",
       "      <td>0.0</td>\n",
       "      <td>54.526426</td>\n",
       "      <td>0.0</td>\n",
       "      <td>0.0</td>\n",
       "    </tr>\n",
       "    <tr>\n",
       "      <th>2</th>\n",
       "      <td>1</td>\n",
       "      <td>2007-05-02</td>\n",
       "      <td>59</td>\n",
       "      <td>42</td>\n",
       "      <td>51.0</td>\n",
       "      <td>42</td>\n",
       "      <td>47</td>\n",
       "      <td>0447</td>\n",
       "      <td>1850</td>\n",
       "      <td>BR</td>\n",
       "      <td>0.00</td>\n",
       "      <td>29.379999</td>\n",
       "      <td>4</td>\n",
       "      <td>13.4</td>\n",
       "      <td>0</td>\n",
       "      <td>0</td>\n",
       "      <td>0.0</td>\n",
       "      <td>71.195808</td>\n",
       "      <td>0.0</td>\n",
       "      <td>0.0</td>\n",
       "    </tr>\n",
       "    <tr>\n",
       "      <th>3</th>\n",
       "      <td>2</td>\n",
       "      <td>2007-05-02</td>\n",
       "      <td>60</td>\n",
       "      <td>43</td>\n",
       "      <td>52.0</td>\n",
       "      <td>42</td>\n",
       "      <td>47</td>\n",
       "      <td>-</td>\n",
       "      <td>-</td>\n",
       "      <td>BR HZ</td>\n",
       "      <td>0.00</td>\n",
       "      <td>29.440001</td>\n",
       "      <td>2</td>\n",
       "      <td>13.4</td>\n",
       "      <td>0</td>\n",
       "      <td>0</td>\n",
       "      <td>0.0</td>\n",
       "      <td>68.614962</td>\n",
       "      <td>0.0</td>\n",
       "      <td>0.0</td>\n",
       "    </tr>\n",
       "    <tr>\n",
       "      <th>4</th>\n",
       "      <td>1</td>\n",
       "      <td>2007-05-03</td>\n",
       "      <td>66</td>\n",
       "      <td>46</td>\n",
       "      <td>56.0</td>\n",
       "      <td>40</td>\n",
       "      <td>48</td>\n",
       "      <td>0446</td>\n",
       "      <td>1851</td>\n",
       "      <td>NA</td>\n",
       "      <td>0.00</td>\n",
       "      <td>29.389999</td>\n",
       "      <td>7</td>\n",
       "      <td>11.9</td>\n",
       "      <td>0</td>\n",
       "      <td>0</td>\n",
       "      <td>0.0</td>\n",
       "      <td>54.874919</td>\n",
       "      <td>0.0</td>\n",
       "      <td>0.0</td>\n",
       "    </tr>\n",
       "    <tr>\n",
       "      <th>5</th>\n",
       "      <td>2</td>\n",
       "      <td>2007-05-03</td>\n",
       "      <td>67</td>\n",
       "      <td>48</td>\n",
       "      <td>58.0</td>\n",
       "      <td>40</td>\n",
       "      <td>50</td>\n",
       "      <td>-</td>\n",
       "      <td>-</td>\n",
       "      <td>HZ</td>\n",
       "      <td>0.00</td>\n",
       "      <td>29.459999</td>\n",
       "      <td>6</td>\n",
       "      <td>13.2</td>\n",
       "      <td>0</td>\n",
       "      <td>0</td>\n",
       "      <td>0.0</td>\n",
       "      <td>51.057657</td>\n",
       "      <td>0.0</td>\n",
       "      <td>0.0</td>\n",
       "    </tr>\n",
       "    <tr>\n",
       "      <th>6</th>\n",
       "      <td>1</td>\n",
       "      <td>2007-05-04</td>\n",
       "      <td>66</td>\n",
       "      <td>49</td>\n",
       "      <td>58.0</td>\n",
       "      <td>41</td>\n",
       "      <td>50</td>\n",
       "      <td>0444</td>\n",
       "      <td>1852</td>\n",
       "      <td>RA</td>\n",
       "      <td>0.00</td>\n",
       "      <td>29.309999</td>\n",
       "      <td>8</td>\n",
       "      <td>10.8</td>\n",
       "      <td>1</td>\n",
       "      <td>0</td>\n",
       "      <td>0.0</td>\n",
       "      <td>53.075889</td>\n",
       "      <td>0.0</td>\n",
       "      <td>0.0</td>\n",
       "    </tr>\n",
       "    <tr>\n",
       "      <th>7</th>\n",
       "      <td>2</td>\n",
       "      <td>2007-05-04</td>\n",
       "      <td>78</td>\n",
       "      <td>51</td>\n",
       "      <td>0.0</td>\n",
       "      <td>42</td>\n",
       "      <td>50</td>\n",
       "      <td>-</td>\n",
       "      <td>-</td>\n",
       "      <td>NA</td>\n",
       "      <td>0.00</td>\n",
       "      <td>29.360001</td>\n",
       "      <td>7</td>\n",
       "      <td>10.4</td>\n",
       "      <td>0</td>\n",
       "      <td>0</td>\n",
       "      <td>0.0</td>\n",
       "      <td>595.869146</td>\n",
       "      <td>0.0</td>\n",
       "      <td>0.0</td>\n",
       "    </tr>\n",
       "    <tr>\n",
       "      <th>8</th>\n",
       "      <td>1</td>\n",
       "      <td>2007-05-05</td>\n",
       "      <td>66</td>\n",
       "      <td>53</td>\n",
       "      <td>60.0</td>\n",
       "      <td>38</td>\n",
       "      <td>49</td>\n",
       "      <td>0443</td>\n",
       "      <td>1853</td>\n",
       "      <td>NA</td>\n",
       "      <td>0.00</td>\n",
       "      <td>29.400000</td>\n",
       "      <td>7</td>\n",
       "      <td>12.0</td>\n",
       "      <td>0</td>\n",
       "      <td>0</td>\n",
       "      <td>0.0</td>\n",
       "      <td>43.965942</td>\n",
       "      <td>0.0</td>\n",
       "      <td>0.0</td>\n",
       "    </tr>\n",
       "    <tr>\n",
       "      <th>9</th>\n",
       "      <td>2</td>\n",
       "      <td>2007-05-05</td>\n",
       "      <td>66</td>\n",
       "      <td>54</td>\n",
       "      <td>60.0</td>\n",
       "      <td>39</td>\n",
       "      <td>50</td>\n",
       "      <td>-</td>\n",
       "      <td>-</td>\n",
       "      <td>NA</td>\n",
       "      <td>0.00</td>\n",
       "      <td>29.459999</td>\n",
       "      <td>7</td>\n",
       "      <td>11.5</td>\n",
       "      <td>0</td>\n",
       "      <td>0</td>\n",
       "      <td>0.0</td>\n",
       "      <td>45.719851</td>\n",
       "      <td>0.0</td>\n",
       "      <td>0.0</td>\n",
       "    </tr>\n",
       "    <tr>\n",
       "      <th>10</th>\n",
       "      <td>1</td>\n",
       "      <td>2007-05-06</td>\n",
       "      <td>68</td>\n",
       "      <td>49</td>\n",
       "      <td>59.0</td>\n",
       "      <td>30</td>\n",
       "      <td>46</td>\n",
       "      <td>0442</td>\n",
       "      <td>1855</td>\n",
       "      <td>NA</td>\n",
       "      <td>0.00</td>\n",
       "      <td>29.570000</td>\n",
       "      <td>11</td>\n",
       "      <td>15.0</td>\n",
       "      <td>0</td>\n",
       "      <td>0</td>\n",
       "      <td>0.0</td>\n",
       "      <td>33.104628</td>\n",
       "      <td>0.0</td>\n",
       "      <td>0.0</td>\n",
       "    </tr>\n",
       "    <tr>\n",
       "      <th>11</th>\n",
       "      <td>2</td>\n",
       "      <td>2007-05-06</td>\n",
       "      <td>68</td>\n",
       "      <td>52</td>\n",
       "      <td>60.0</td>\n",
       "      <td>30</td>\n",
       "      <td>46</td>\n",
       "      <td>-</td>\n",
       "      <td>-</td>\n",
       "      <td>NA</td>\n",
       "      <td>0.00</td>\n",
       "      <td>29.620001</td>\n",
       "      <td>10</td>\n",
       "      <td>14.5</td>\n",
       "      <td>0</td>\n",
       "      <td>0</td>\n",
       "      <td>0.0</td>\n",
       "      <td>31.944799</td>\n",
       "      <td>0.0</td>\n",
       "      <td>0.0</td>\n",
       "    </tr>\n",
       "    <tr>\n",
       "      <th>12</th>\n",
       "      <td>1</td>\n",
       "      <td>2007-05-07</td>\n",
       "      <td>83</td>\n",
       "      <td>47</td>\n",
       "      <td>65.0</td>\n",
       "      <td>41</td>\n",
       "      <td>54</td>\n",
       "      <td>0441</td>\n",
       "      <td>1856</td>\n",
       "      <td>RA</td>\n",
       "      <td>0.00</td>\n",
       "      <td>29.379999</td>\n",
       "      <td>18</td>\n",
       "      <td>10.5</td>\n",
       "      <td>1</td>\n",
       "      <td>0</td>\n",
       "      <td>0.0</td>\n",
       "      <td>41.437951</td>\n",
       "      <td>0.0</td>\n",
       "      <td>0.0</td>\n",
       "    </tr>\n",
       "    <tr>\n",
       "      <th>13</th>\n",
       "      <td>2</td>\n",
       "      <td>2007-05-07</td>\n",
       "      <td>84</td>\n",
       "      <td>50</td>\n",
       "      <td>67.0</td>\n",
       "      <td>39</td>\n",
       "      <td>53</td>\n",
       "      <td>-</td>\n",
       "      <td>-</td>\n",
       "      <td>NA</td>\n",
       "      <td>0.00</td>\n",
       "      <td>29.440001</td>\n",
       "      <td>17</td>\n",
       "      <td>9.9</td>\n",
       "      <td>0</td>\n",
       "      <td>0</td>\n",
       "      <td>0.0</td>\n",
       "      <td>35.770152</td>\n",
       "      <td>0.0</td>\n",
       "      <td>0.0</td>\n",
       "    </tr>\n",
       "    <tr>\n",
       "      <th>14</th>\n",
       "      <td>1</td>\n",
       "      <td>2007-05-08</td>\n",
       "      <td>82</td>\n",
       "      <td>54</td>\n",
       "      <td>68.0</td>\n",
       "      <td>58</td>\n",
       "      <td>62</td>\n",
       "      <td>0439</td>\n",
       "      <td>1857</td>\n",
       "      <td>BR</td>\n",
       "      <td>0.00</td>\n",
       "      <td>29.290001</td>\n",
       "      <td>11</td>\n",
       "      <td>5.8</td>\n",
       "      <td>0</td>\n",
       "      <td>0</td>\n",
       "      <td>0.0</td>\n",
       "      <td>70.372509</td>\n",
       "      <td>1.0</td>\n",
       "      <td>1.0</td>\n",
       "    </tr>\n",
       "    <tr>\n",
       "      <th>15</th>\n",
       "      <td>2</td>\n",
       "      <td>2007-05-08</td>\n",
       "      <td>80</td>\n",
       "      <td>60</td>\n",
       "      <td>70.0</td>\n",
       "      <td>57</td>\n",
       "      <td>63</td>\n",
       "      <td>-</td>\n",
       "      <td>-</td>\n",
       "      <td>HZ</td>\n",
       "      <td>0.00</td>\n",
       "      <td>29.360001</td>\n",
       "      <td>8</td>\n",
       "      <td>5.4</td>\n",
       "      <td>0</td>\n",
       "      <td>0</td>\n",
       "      <td>0.0</td>\n",
       "      <td>63.391531</td>\n",
       "      <td>1.0</td>\n",
       "      <td>1.0</td>\n",
       "    </tr>\n",
       "    <tr>\n",
       "      <th>16</th>\n",
       "      <td>1</td>\n",
       "      <td>2007-05-09</td>\n",
       "      <td>77</td>\n",
       "      <td>61</td>\n",
       "      <td>69.0</td>\n",
       "      <td>59</td>\n",
       "      <td>63</td>\n",
       "      <td>0438</td>\n",
       "      <td>1858</td>\n",
       "      <td>BR HZ</td>\n",
       "      <td>0.13</td>\n",
       "      <td>29.209999</td>\n",
       "      <td>9</td>\n",
       "      <td>6.2</td>\n",
       "      <td>0</td>\n",
       "      <td>0</td>\n",
       "      <td>0.0</td>\n",
       "      <td>70.477825</td>\n",
       "      <td>0.0</td>\n",
       "      <td>0.0</td>\n",
       "    </tr>\n",
       "    <tr>\n",
       "      <th>17</th>\n",
       "      <td>2</td>\n",
       "      <td>2007-05-09</td>\n",
       "      <td>76</td>\n",
       "      <td>63</td>\n",
       "      <td>70.0</td>\n",
       "      <td>60</td>\n",
       "      <td>63</td>\n",
       "      <td>-</td>\n",
       "      <td>-</td>\n",
       "      <td>BR HZ</td>\n",
       "      <td>0.02</td>\n",
       "      <td>29.280001</td>\n",
       "      <td>7</td>\n",
       "      <td>5.9</td>\n",
       "      <td>0</td>\n",
       "      <td>0</td>\n",
       "      <td>0.0</td>\n",
       "      <td>70.582627</td>\n",
       "      <td>1.0</td>\n",
       "      <td>1.0</td>\n",
       "    </tr>\n",
       "    <tr>\n",
       "      <th>18</th>\n",
       "      <td>1</td>\n",
       "      <td>2007-05-10</td>\n",
       "      <td>84</td>\n",
       "      <td>56</td>\n",
       "      <td>70.0</td>\n",
       "      <td>52</td>\n",
       "      <td>60</td>\n",
       "      <td>0437</td>\n",
       "      <td>1859</td>\n",
       "      <td>BR</td>\n",
       "      <td>0.00</td>\n",
       "      <td>29.200001</td>\n",
       "      <td>17</td>\n",
       "      <td>4.1</td>\n",
       "      <td>0</td>\n",
       "      <td>0</td>\n",
       "      <td>0.0</td>\n",
       "      <td>52.831566</td>\n",
       "      <td>1.0</td>\n",
       "      <td>1.0</td>\n",
       "    </tr>\n",
       "    <tr>\n",
       "      <th>19</th>\n",
       "      <td>2</td>\n",
       "      <td>2007-05-10</td>\n",
       "      <td>83</td>\n",
       "      <td>59</td>\n",
       "      <td>71.0</td>\n",
       "      <td>52</td>\n",
       "      <td>61</td>\n",
       "      <td>-</td>\n",
       "      <td>-</td>\n",
       "      <td>BR HZ</td>\n",
       "      <td>0.00</td>\n",
       "      <td>29.260000</td>\n",
       "      <td>9</td>\n",
       "      <td>3.9</td>\n",
       "      <td>0</td>\n",
       "      <td>0</td>\n",
       "      <td>0.0</td>\n",
       "      <td>51.063734</td>\n",
       "      <td>1.0</td>\n",
       "      <td>1.0</td>\n",
       "    </tr>\n",
       "    <tr>\n",
       "      <th>20</th>\n",
       "      <td>1</td>\n",
       "      <td>2007-05-11</td>\n",
       "      <td>70</td>\n",
       "      <td>51</td>\n",
       "      <td>61.0</td>\n",
       "      <td>42</td>\n",
       "      <td>51</td>\n",
       "      <td>0436</td>\n",
       "      <td>1860</td>\n",
       "      <td>NA</td>\n",
       "      <td>0.00</td>\n",
       "      <td>29.330000</td>\n",
       "      <td>3</td>\n",
       "      <td>12.9</td>\n",
       "      <td>0</td>\n",
       "      <td>0</td>\n",
       "      <td>0.0</td>\n",
       "      <td>49.566968</td>\n",
       "      <td>0.0</td>\n",
       "      <td>0.0</td>\n",
       "    </tr>\n",
       "    <tr>\n",
       "      <th>21</th>\n",
       "      <td>2</td>\n",
       "      <td>2007-05-11</td>\n",
       "      <td>73</td>\n",
       "      <td>49</td>\n",
       "      <td>61.0</td>\n",
       "      <td>44</td>\n",
       "      <td>51</td>\n",
       "      <td>-</td>\n",
       "      <td>-</td>\n",
       "      <td>NA</td>\n",
       "      <td>0.00</td>\n",
       "      <td>29.389999</td>\n",
       "      <td>36</td>\n",
       "      <td>12.8</td>\n",
       "      <td>0</td>\n",
       "      <td>0</td>\n",
       "      <td>0.0</td>\n",
       "      <td>53.516893</td>\n",
       "      <td>0.0</td>\n",
       "      <td>0.0</td>\n",
       "    </tr>\n",
       "    <tr>\n",
       "      <th>22</th>\n",
       "      <td>1</td>\n",
       "      <td>2007-05-12</td>\n",
       "      <td>64</td>\n",
       "      <td>46</td>\n",
       "      <td>55.0</td>\n",
       "      <td>36</td>\n",
       "      <td>46</td>\n",
       "      <td>0435</td>\n",
       "      <td>1901</td>\n",
       "      <td>NA</td>\n",
       "      <td>0.00</td>\n",
       "      <td>29.490000</td>\n",
       "      <td>3</td>\n",
       "      <td>12.9</td>\n",
       "      <td>0</td>\n",
       "      <td>0</td>\n",
       "      <td>0.0</td>\n",
       "      <td>48.643419</td>\n",
       "      <td>0.0</td>\n",
       "      <td>0.0</td>\n",
       "    </tr>\n",
       "    <tr>\n",
       "      <th>23</th>\n",
       "      <td>2</td>\n",
       "      <td>2007-05-12</td>\n",
       "      <td>65</td>\n",
       "      <td>47</td>\n",
       "      <td>56.0</td>\n",
       "      <td>37</td>\n",
       "      <td>46</td>\n",
       "      <td>-</td>\n",
       "      <td>-</td>\n",
       "      <td>NA</td>\n",
       "      <td>0.00</td>\n",
       "      <td>29.540001</td>\n",
       "      <td>1</td>\n",
       "      <td>13.0</td>\n",
       "      <td>0</td>\n",
       "      <td>0</td>\n",
       "      <td>0.0</td>\n",
       "      <td>48.798684</td>\n",
       "      <td>0.0</td>\n",
       "      <td>0.0</td>\n",
       "    </tr>\n",
       "    <tr>\n",
       "      <th>24</th>\n",
       "      <td>1</td>\n",
       "      <td>2007-05-13</td>\n",
       "      <td>69</td>\n",
       "      <td>43</td>\n",
       "      <td>56.0</td>\n",
       "      <td>33</td>\n",
       "      <td>46</td>\n",
       "      <td>0434</td>\n",
       "      <td>1902</td>\n",
       "      <td>NA</td>\n",
       "      <td>0.00</td>\n",
       "      <td>29.490000</td>\n",
       "      <td>14</td>\n",
       "      <td>8.1</td>\n",
       "      <td>0</td>\n",
       "      <td>0</td>\n",
       "      <td>0.0</td>\n",
       "      <td>41.626401</td>\n",
       "      <td>0.0</td>\n",
       "      <td>0.0</td>\n",
       "    </tr>\n",
       "  </tbody>\n",
       "</table>\n",
       "</div>"
      ],
      "text/plain": [
       "    Station       Date  Tmax  Tmin  Tavg  DewPoint  WetBulb Sunrise Sunset  \\\n",
       "0         1 2007-05-01    83    50  67.0        51       56    0448   1849   \n",
       "1         2 2007-05-01    84    52  68.0        51       57       -      -   \n",
       "2         1 2007-05-02    59    42  51.0        42       47    0447   1850   \n",
       "3         2 2007-05-02    60    43  52.0        42       47       -      -   \n",
       "4         1 2007-05-03    66    46  56.0        40       48    0446   1851   \n",
       "5         2 2007-05-03    67    48  58.0        40       50       -      -   \n",
       "6         1 2007-05-04    66    49  58.0        41       50    0444   1852   \n",
       "7         2 2007-05-04    78    51   0.0        42       50       -      -   \n",
       "8         1 2007-05-05    66    53  60.0        38       49    0443   1853   \n",
       "9         2 2007-05-05    66    54  60.0        39       50       -      -   \n",
       "10        1 2007-05-06    68    49  59.0        30       46    0442   1855   \n",
       "11        2 2007-05-06    68    52  60.0        30       46       -      -   \n",
       "12        1 2007-05-07    83    47  65.0        41       54    0441   1856   \n",
       "13        2 2007-05-07    84    50  67.0        39       53       -      -   \n",
       "14        1 2007-05-08    82    54  68.0        58       62    0439   1857   \n",
       "15        2 2007-05-08    80    60  70.0        57       63       -      -   \n",
       "16        1 2007-05-09    77    61  69.0        59       63    0438   1858   \n",
       "17        2 2007-05-09    76    63  70.0        60       63       -      -   \n",
       "18        1 2007-05-10    84    56  70.0        52       60    0437   1859   \n",
       "19        2 2007-05-10    83    59  71.0        52       61       -      -   \n",
       "20        1 2007-05-11    70    51  61.0        42       51    0436   1860   \n",
       "21        2 2007-05-11    73    49  61.0        44       51       -      -   \n",
       "22        1 2007-05-12    64    46  55.0        36       46    0435   1901   \n",
       "23        2 2007-05-12    65    47  56.0        37       46       -      -   \n",
       "24        1 2007-05-13    69    43  56.0        33       46    0434   1902   \n",
       "\n",
       "   CodeSum  PrecipTotal  StnPressure  ResultDir  AvgSpeed  rain  snow  \\\n",
       "0       NA         0.00    29.100000         27       9.2     0     0   \n",
       "1       NA         0.00    29.180000         25       9.6     0     0   \n",
       "2       BR         0.00    29.379999          4      13.4     0     0   \n",
       "3    BR HZ         0.00    29.440001          2      13.4     0     0   \n",
       "4       NA         0.00    29.389999          7      11.9     0     0   \n",
       "5       HZ         0.00    29.459999          6      13.2     0     0   \n",
       "6       RA         0.00    29.309999          8      10.8     1     0   \n",
       "7       NA         0.00    29.360001          7      10.4     0     0   \n",
       "8       NA         0.00    29.400000          7      12.0     0     0   \n",
       "9       NA         0.00    29.459999          7      11.5     0     0   \n",
       "10      NA         0.00    29.570000         11      15.0     0     0   \n",
       "11      NA         0.00    29.620001         10      14.5     0     0   \n",
       "12      RA         0.00    29.379999         18      10.5     1     0   \n",
       "13      NA         0.00    29.440001         17       9.9     0     0   \n",
       "14      BR         0.00    29.290001         11       5.8     0     0   \n",
       "15      HZ         0.00    29.360001          8       5.4     0     0   \n",
       "16   BR HZ         0.13    29.209999          9       6.2     0     0   \n",
       "17   BR HZ         0.02    29.280001          7       5.9     0     0   \n",
       "18      BR         0.00    29.200001         17       4.1     0     0   \n",
       "19   BR HZ         0.00    29.260000          9       3.9     0     0   \n",
       "20      NA         0.00    29.330000          3      12.9     0     0   \n",
       "21      NA         0.00    29.389999         36      12.8     0     0   \n",
       "22      NA         0.00    29.490000          3      12.9     0     0   \n",
       "23      NA         0.00    29.540001          1      13.0     0     0   \n",
       "24      NA         0.00    29.490000         14       8.1     0     0   \n",
       "\n",
       "    spray_ineffective  relative_humidity  feeding  ideal_environment  \n",
       "0                 0.0          56.438576      0.0                0.0  \n",
       "1                 0.0          54.526426      0.0                0.0  \n",
       "2                 0.0          71.195808      0.0                0.0  \n",
       "3                 0.0          68.614962      0.0                0.0  \n",
       "4                 0.0          54.874919      0.0                0.0  \n",
       "5                 0.0          51.057657      0.0                0.0  \n",
       "6                 0.0          53.075889      0.0                0.0  \n",
       "7                 0.0         595.869146      0.0                0.0  \n",
       "8                 0.0          43.965942      0.0                0.0  \n",
       "9                 0.0          45.719851      0.0                0.0  \n",
       "10                0.0          33.104628      0.0                0.0  \n",
       "11                0.0          31.944799      0.0                0.0  \n",
       "12                0.0          41.437951      0.0                0.0  \n",
       "13                0.0          35.770152      0.0                0.0  \n",
       "14                0.0          70.372509      1.0                1.0  \n",
       "15                0.0          63.391531      1.0                1.0  \n",
       "16                0.0          70.477825      0.0                0.0  \n",
       "17                0.0          70.582627      1.0                1.0  \n",
       "18                0.0          52.831566      1.0                1.0  \n",
       "19                0.0          51.063734      1.0                1.0  \n",
       "20                0.0          49.566968      0.0                0.0  \n",
       "21                0.0          53.516893      0.0                0.0  \n",
       "22                0.0          48.643419      0.0                0.0  \n",
       "23                0.0          48.798684      0.0                0.0  \n",
       "24                0.0          41.626401      0.0                0.0  "
      ]
     },
     "execution_count": 128,
     "metadata": {},
     "output_type": "execute_result"
    }
   ],
   "source": [
    "weather.head(25)"
   ]
  },
  {
   "cell_type": "markdown",
   "metadata": {},
   "source": [
    "## Correlation with New Features:"
   ]
  },
  {
   "cell_type": "code",
   "execution_count": 92,
   "metadata": {},
   "outputs": [
    {
     "data": {
      "image/png": "[encoded data removed]",
      "text/plain": [
       "<matplotlib.figure.Figure at 0x10ba8a748>"
      ]
     },
     "metadata": {},
     "output_type": "display_data"
    }
   ],
   "source": [
    "sns.set(style=\"white\")\n",
    "\n",
    "corr = weather.corr()\n",
    "\n",
    "mask = np.zeros_like(corr, dtype=np.bool)\n",
    "mask[np.triu_indices_from(mask)] = True\n",
    "\n",
    "f, ax = plt.subplots(figsize=(15, 15))\n",
    "\n",
    "sns.heatmap(corr, annot = True, mask=mask, vmin = -1, vmax= 1, center=0,\n",
    "            square=True, linewidths=.3);"
   ]
  },
  {
   "cell_type": "code",
   "execution_count": null,
   "metadata": {},
   "outputs": [],
   "source": []
  },
  {
   "cell_type": "markdown",
   "metadata": {},
   "source": [
    "---------\n",
    "# Train: \n",
    "-------- \n",
    "\n",
    "- Date                     : Type = object - YEAR/MM/DD - Values: 2007-06-29 through 2013-09-26\n",
    "- Address                  : Type = object - `DROP`*\n",
    "- Species                  : Type = object - 7 Species:\n",
    "\n",
    "    - `CULEX TERRITANS` \n",
    "    - `CULEX TARSALIS` \n",
    "    - `CULEX SALINARIUS`\n",
    "    - `CULEX RESTUANS` : West Nile Virus is Presesnt among `0.017883` of this species.\n",
    "    - `CULEX PIPIENS/RESTUANS` : West Nile Virus is Presesnt among `0.055135` of this species.\n",
    "    - `CULEX PIPIENS` : West Nile Virus is Presesnt among `0.088922` of this species.\n",
    "    - `CULEX ERRATICUS`\n",
    "    \n",
    "\n",
    "- Block                    : Type = int64 - `DROP`*\n",
    "- Street                   : Type = object - `DROP`*\n",
    "- Trap                     : Type = object - Values = T001 through T903 with `T094B` and `T054C` included\n",
    "- AddressNumberAndStreet   : Type = object - `DROP`*\n",
    "- Latitude                 : Type = float64 - 41.644612 through 42.01743\n",
    "- Longitude                : Type = float64 - -87.531635 through -87.930995\n",
    "- AddressAccuracy          : Type = int64 - Accuracy returned from GeoCoder - Values = 9, 8, 5, 3\n",
    "- NumMosquitos             : Type = int64 - Number of mosquitoes caught in this trap - Values = 1 through 50\n",
    "- WnvPresent               : Type = int64 - ~ 0.052 of Mosquitoes have the West Nile Virus Present\n",
    "\n",
    "*= Temporarily "
   ]
  },
  {
   "cell_type": "code",
   "execution_count": 93,
   "metadata": {},
   "outputs": [
    {
     "data": {
      "text/html": [
       "<div>\n",
       "<style scoped>\n",
       "    .dataframe tbody tr th:only-of-type {\n",
       "        vertical-align: middle;\n",
       "    }\n",
       "\n",
       "    .dataframe tbody tr th {\n",
       "        vertical-align: top;\n",
       "    }\n",
       "\n",
       "    .dataframe thead th {\n",
       "        text-align: right;\n",
       "    }\n",
       "</style>\n",
       "<table border=\"1\" class=\"dataframe\">\n",
       "  <thead>\n",
       "    <tr style=\"text-align: right;\">\n",
       "      <th></th>\n",
       "      <th>Date</th>\n",
       "      <th>Address</th>\n",
       "      <th>Species</th>\n",
       "      <th>Block</th>\n",
       "      <th>Street</th>\n",
       "      <th>Trap</th>\n",
       "      <th>AddressNumberAndStreet</th>\n",
       "      <th>Latitude</th>\n",
       "      <th>Longitude</th>\n",
       "      <th>AddressAccuracy</th>\n",
       "      <th>NumMosquitos</th>\n",
       "      <th>WnvPresent</th>\n",
       "    </tr>\n",
       "  </thead>\n",
       "  <tbody>\n",
       "    <tr>\n",
       "      <th>0</th>\n",
       "      <td>2007-05-29</td>\n",
       "      <td>4100 North Oak Park Avenue, Chicago, IL 60634,...</td>\n",
       "      <td>CULEX PIPIENS/RESTUANS</td>\n",
       "      <td>41</td>\n",
       "      <td>N OAK PARK AVE</td>\n",
       "      <td>T002</td>\n",
       "      <td>4100  N OAK PARK AVE, Chicago, IL</td>\n",
       "      <td>41.95469</td>\n",
       "      <td>-87.800991</td>\n",
       "      <td>9</td>\n",
       "      <td>1</td>\n",
       "      <td>0</td>\n",
       "    </tr>\n",
       "    <tr>\n",
       "      <th>1</th>\n",
       "      <td>2007-05-29</td>\n",
       "      <td>4100 North Oak Park Avenue, Chicago, IL 60634,...</td>\n",
       "      <td>CULEX RESTUANS</td>\n",
       "      <td>41</td>\n",
       "      <td>N OAK PARK AVE</td>\n",
       "      <td>T002</td>\n",
       "      <td>4100  N OAK PARK AVE, Chicago, IL</td>\n",
       "      <td>41.95469</td>\n",
       "      <td>-87.800991</td>\n",
       "      <td>9</td>\n",
       "      <td>1</td>\n",
       "      <td>0</td>\n",
       "    </tr>\n",
       "  </tbody>\n",
       "</table>\n",
       "</div>"
      ],
      "text/plain": [
       "         Date                                            Address  \\\n",
       "0  2007-05-29  4100 North Oak Park Avenue, Chicago, IL 60634,...   \n",
       "1  2007-05-29  4100 North Oak Park Avenue, Chicago, IL 60634,...   \n",
       "\n",
       "                  Species  Block           Street  Trap  \\\n",
       "0  CULEX PIPIENS/RESTUANS     41   N OAK PARK AVE  T002   \n",
       "1          CULEX RESTUANS     41   N OAK PARK AVE  T002   \n",
       "\n",
       "              AddressNumberAndStreet  Latitude  Longitude  AddressAccuracy  \\\n",
       "0  4100  N OAK PARK AVE, Chicago, IL  41.95469 -87.800991                9   \n",
       "1  4100  N OAK PARK AVE, Chicago, IL  41.95469 -87.800991                9   \n",
       "\n",
       "   NumMosquitos  WnvPresent  \n",
       "0             1           0  \n",
       "1             1           0  "
      ]
     },
     "execution_count": 93,
     "metadata": {},
     "output_type": "execute_result"
    }
   ],
   "source": [
    "train.head(2)"
   ]
  },
  {
   "cell_type": "code",
   "execution_count": 94,
   "metadata": {},
   "outputs": [
    {
     "data": {
      "text/plain": [
       "array([1, 0])"
      ]
     },
     "execution_count": 94,
     "metadata": {},
     "output_type": "execute_result"
    }
   ],
   "source": [
    "train.WnvPresent.sort_values(ascending = False).unique()"
   ]
  },
  {
   "cell_type": "code",
   "execution_count": 95,
   "metadata": {},
   "outputs": [
    {
     "data": {
      "text/plain": [
       "0.05244622120692937"
      ]
     },
     "execution_count": 95,
     "metadata": {},
     "output_type": "execute_result"
    }
   ],
   "source": [
    "train.WnvPresent.sort_values(ascending = False).mean()"
   ]
  },
  {
   "cell_type": "code",
   "execution_count": null,
   "metadata": {},
   "outputs": [],
   "source": []
  },
  {
   "cell_type": "code",
   "execution_count": 96,
   "metadata": {},
   "outputs": [
    {
     "data": {
      "text/plain": [
       "Species\n",
       "CULEX ERRATICUS              [0]\n",
       "CULEX PIPIENS             [0, 1]\n",
       "CULEX PIPIENS/RESTUANS    [0, 1]\n",
       "CULEX RESTUANS            [0, 1]\n",
       "CULEX SALINARIUS             [0]\n",
       "CULEX TARSALIS               [0]\n",
       "CULEX TERRITANS              [0]\n",
       "Name: WnvPresent, dtype: object"
      ]
     },
     "execution_count": 96,
     "metadata": {},
     "output_type": "execute_result"
    }
   ],
   "source": [
    "train.groupby('Species').WnvPresent.unique()"
   ]
  },
  {
   "cell_type": "code",
   "execution_count": 97,
   "metadata": {},
   "outputs": [
    {
     "data": {
      "text/plain": [
       "Species\n",
       "CULEX ERRATICUS           0.000000\n",
       "CULEX PIPIENS             0.088922\n",
       "CULEX PIPIENS/RESTUANS    0.055135\n",
       "CULEX RESTUANS            0.017883\n",
       "CULEX SALINARIUS          0.000000\n",
       "CULEX TARSALIS            0.000000\n",
       "CULEX TERRITANS           0.000000\n",
       "Name: WnvPresent, dtype: float64"
      ]
     },
     "execution_count": 97,
     "metadata": {},
     "output_type": "execute_result"
    }
   ],
   "source": [
    "train.groupby('Species').WnvPresent.mean()"
   ]
  },
  {
   "cell_type": "code",
   "execution_count": 98,
   "metadata": {},
   "outputs": [
    {
     "data": {
      "text/html": [
       "<div>\n",
       "<style scoped>\n",
       "    .dataframe tbody tr th:only-of-type {\n",
       "        vertical-align: middle;\n",
       "    }\n",
       "\n",
       "    .dataframe tbody tr th {\n",
       "        vertical-align: top;\n",
       "    }\n",
       "\n",
       "    .dataframe thead th {\n",
       "        text-align: right;\n",
       "    }\n",
       "</style>\n",
       "<table border=\"1\" class=\"dataframe\">\n",
       "  <thead>\n",
       "    <tr style=\"text-align: right;\">\n",
       "      <th></th>\n",
       "      <th>Date</th>\n",
       "      <th>Address</th>\n",
       "      <th>Species</th>\n",
       "      <th>Block</th>\n",
       "      <th>Street</th>\n",
       "      <th>Trap</th>\n",
       "      <th>AddressNumberAndStreet</th>\n",
       "      <th>Latitude</th>\n",
       "      <th>Longitude</th>\n",
       "      <th>AddressAccuracy</th>\n",
       "      <th>NumMosquitos</th>\n",
       "      <th>WnvPresent</th>\n",
       "    </tr>\n",
       "  </thead>\n",
       "  <tbody>\n",
       "    <tr>\n",
       "      <th>2384</th>\n",
       "      <td>2007-08-22</td>\n",
       "      <td>1700 West 95th Street, Chicago, IL 60643, USA</td>\n",
       "      <td>CULEX PIPIENS</td>\n",
       "      <td>17</td>\n",
       "      <td>W 95TH ST</td>\n",
       "      <td>T094</td>\n",
       "      <td>1700  W 95TH ST, Chicago, IL</td>\n",
       "      <td>41.720848</td>\n",
       "      <td>-87.666014</td>\n",
       "      <td>9</td>\n",
       "      <td>28</td>\n",
       "      <td>1</td>\n",
       "    </tr>\n",
       "    <tr>\n",
       "      <th>2496</th>\n",
       "      <td>2007-08-22</td>\n",
       "      <td>2400 East 105th Street, Chicago, IL 60617, USA</td>\n",
       "      <td>CULEX PIPIENS</td>\n",
       "      <td>24</td>\n",
       "      <td>E 105TH ST</td>\n",
       "      <td>T128</td>\n",
       "      <td>2400  E 105TH ST, Chicago, IL</td>\n",
       "      <td>41.704572</td>\n",
       "      <td>-87.565666</td>\n",
       "      <td>8</td>\n",
       "      <td>50</td>\n",
       "      <td>1</td>\n",
       "    </tr>\n",
       "  </tbody>\n",
       "</table>\n",
       "</div>"
      ],
      "text/plain": [
       "            Date                                         Address  \\\n",
       "2384  2007-08-22   1700 West 95th Street, Chicago, IL 60643, USA   \n",
       "2496  2007-08-22  2400 East 105th Street, Chicago, IL 60617, USA   \n",
       "\n",
       "            Species  Block       Street  Trap         AddressNumberAndStreet  \\\n",
       "2384  CULEX PIPIENS     17    W 95TH ST  T094   1700  W 95TH ST, Chicago, IL   \n",
       "2496  CULEX PIPIENS     24   E 105TH ST  T128  2400  E 105TH ST, Chicago, IL   \n",
       "\n",
       "       Latitude  Longitude  AddressAccuracy  NumMosquitos  WnvPresent  \n",
       "2384  41.720848 -87.666014                9            28           1  \n",
       "2496  41.704572 -87.565666                8            50           1  "
      ]
     },
     "execution_count": 98,
     "metadata": {},
     "output_type": "execute_result"
    }
   ],
   "source": [
    "train[train['WnvPresent'] == True].sort_values('Species').head(2)"
   ]
  },
  {
   "cell_type": "code",
   "execution_count": 99,
   "metadata": {},
   "outputs": [
    {
     "data": {
      "text/plain": [
       "10506"
      ]
     },
     "execution_count": 99,
     "metadata": {},
     "output_type": "execute_result"
    }
   ],
   "source": [
    "sum(train.Species.value_counts())"
   ]
  },
  {
   "cell_type": "code",
   "execution_count": 100,
   "metadata": {},
   "outputs": [],
   "source": [
    "train.groupby('Species').WnvPresent.mean();"
   ]
  },
  {
   "cell_type": "code",
   "execution_count": 101,
   "metadata": {},
   "outputs": [
    {
     "data": {
      "image/png": "[encoded data removed]",
      "text/plain": [
       "<matplotlib.figure.Figure at 0x10cb861d0>"
      ]
     },
     "metadata": {},
     "output_type": "display_data"
    }
   ],
   "source": [
    "sns.countplot(x='Species', data=train)\n",
    "plt.xticks(rotation=45, ha='right');"
   ]
  },
  {
   "cell_type": "code",
   "execution_count": 102,
   "metadata": {},
   "outputs": [
    {
     "data": {
      "text/plain": [
       "(array([0, 1, 2]), <a list of 3 Text xticklabel objects>)"
      ]
     },
     "execution_count": 102,
     "metadata": {},
     "output_type": "execute_result"
    },
    {
     "data": {
      "image/png": "[encoded data removed]",
      "text/plain": [
       "<matplotlib.figure.Figure at 0x10cb864a8>"
      ]
     },
     "metadata": {},
     "output_type": "display_data"
    }
   ],
   "source": [
    "train[train['WnvPresent']==1].groupby('Species').WnvPresent.count().plot(kind='bar')\n",
    "plt.ylabel('Observances of WNV')\n",
    "plt.xlabel('Species')\n",
    "plt.title('Count of WNV Observations by Species')\n",
    "plt.xticks(rotation=45, ha='right')"
   ]
  },
  {
   "cell_type": "code",
   "execution_count": 103,
   "metadata": {},
   "outputs": [
    {
     "data": {
      "text/plain": [
       "CULEX PIPIENS/RESTUANS    4752\n",
       "CULEX RESTUANS            2740\n",
       "CULEX PIPIENS             2699\n",
       "CULEX TERRITANS            222\n",
       "CULEX SALINARIUS            86\n",
       "CULEX TARSALIS               6\n",
       "CULEX ERRATICUS              1\n",
       "Name: Species, dtype: int64"
      ]
     },
     "execution_count": 103,
     "metadata": {},
     "output_type": "execute_result"
    }
   ],
   "source": [
    "train.Species.value_counts()"
   ]
  },
  {
   "cell_type": "code",
   "execution_count": 104,
   "metadata": {},
   "outputs": [
    {
     "data": {
      "text/plain": [
       "Species\n",
       "CULEX ERRATICUS           0.000000\n",
       "CULEX PIPIENS             0.088922\n",
       "CULEX PIPIENS/RESTUANS    0.055135\n",
       "CULEX RESTUANS            0.017883\n",
       "CULEX SALINARIUS          0.000000\n",
       "CULEX TARSALIS            0.000000\n",
       "CULEX TERRITANS           0.000000\n",
       "Name: WnvPresent, dtype: float64"
      ]
     },
     "execution_count": 104,
     "metadata": {},
     "output_type": "execute_result"
    }
   ],
   "source": [
    "train.groupby('Species').WnvPresent.mean()"
   ]
  },
  {
   "cell_type": "code",
   "execution_count": null,
   "metadata": {},
   "outputs": [],
   "source": []
  },
  {
   "cell_type": "code",
   "execution_count": null,
   "metadata": {},
   "outputs": [],
   "source": []
  },
  {
   "cell_type": "markdown",
   "metadata": {},
   "source": [
    "----------\n",
    "# Spray\n",
    "------------"
   ]
  },
  {
   "cell_type": "code",
   "execution_count": 105,
   "metadata": {},
   "outputs": [
    {
     "data": {
      "text/html": [
       "<div>\n",
       "<style scoped>\n",
       "    .dataframe tbody tr th:only-of-type {\n",
       "        vertical-align: middle;\n",
       "    }\n",
       "\n",
       "    .dataframe tbody tr th {\n",
       "        vertical-align: top;\n",
       "    }\n",
       "\n",
       "    .dataframe thead th {\n",
       "        text-align: right;\n",
       "    }\n",
       "</style>\n",
       "<table border=\"1\" class=\"dataframe\">\n",
       "  <thead>\n",
       "    <tr style=\"text-align: right;\">\n",
       "      <th></th>\n",
       "      <th>Date</th>\n",
       "      <th>Time</th>\n",
       "      <th>Latitude</th>\n",
       "      <th>Longitude</th>\n",
       "    </tr>\n",
       "  </thead>\n",
       "  <tbody>\n",
       "    <tr>\n",
       "      <th>0</th>\n",
       "      <td>2011-08-29</td>\n",
       "      <td>6:56:58 PM</td>\n",
       "      <td>42.391623</td>\n",
       "      <td>-88.089163</td>\n",
       "    </tr>\n",
       "    <tr>\n",
       "      <th>1</th>\n",
       "      <td>2011-08-29</td>\n",
       "      <td>6:57:08 PM</td>\n",
       "      <td>42.391348</td>\n",
       "      <td>-88.089163</td>\n",
       "    </tr>\n",
       "    <tr>\n",
       "      <th>2</th>\n",
       "      <td>2011-08-29</td>\n",
       "      <td>6:57:18 PM</td>\n",
       "      <td>42.391022</td>\n",
       "      <td>-88.089157</td>\n",
       "    </tr>\n",
       "    <tr>\n",
       "      <th>3</th>\n",
       "      <td>2011-08-29</td>\n",
       "      <td>6:57:28 PM</td>\n",
       "      <td>42.390637</td>\n",
       "      <td>-88.089158</td>\n",
       "    </tr>\n",
       "    <tr>\n",
       "      <th>4</th>\n",
       "      <td>2011-08-29</td>\n",
       "      <td>6:57:38 PM</td>\n",
       "      <td>42.390410</td>\n",
       "      <td>-88.088858</td>\n",
       "    </tr>\n",
       "  </tbody>\n",
       "</table>\n",
       "</div>"
      ],
      "text/plain": [
       "         Date        Time   Latitude  Longitude\n",
       "0  2011-08-29  6:56:58 PM  42.391623 -88.089163\n",
       "1  2011-08-29  6:57:08 PM  42.391348 -88.089163\n",
       "2  2011-08-29  6:57:18 PM  42.391022 -88.089157\n",
       "3  2011-08-29  6:57:28 PM  42.390637 -88.089158\n",
       "4  2011-08-29  6:57:38 PM  42.390410 -88.088858"
      ]
     },
     "execution_count": 105,
     "metadata": {},
     "output_type": "execute_result"
    }
   ],
   "source": [
    "spray.head()"
   ]
  },
  {
   "cell_type": "code",
   "execution_count": 106,
   "metadata": {},
   "outputs": [
    {
     "name": "stdout",
     "output_type": "stream",
     "text": [
      "<class 'pandas.core.frame.DataFrame'>\n",
      "RangeIndex: 14835 entries, 0 to 14834\n",
      "Data columns (total 4 columns):\n",
      "Date         14835 non-null object\n",
      "Time         14251 non-null object\n",
      "Latitude     14835 non-null float64\n",
      "Longitude    14835 non-null float64\n",
      "dtypes: float64(2), object(2)\n",
      "memory usage: 463.7+ KB\n"
     ]
    }
   ],
   "source": [
    "spray.info()"
   ]
  },
  {
   "cell_type": "code",
   "execution_count": 107,
   "metadata": {},
   "outputs": [],
   "source": [
    "spray.Date = pd.to_datetime(spray.Date, dayfirst=True)"
   ]
  },
  {
   "cell_type": "code",
   "execution_count": 108,
   "metadata": {},
   "outputs": [
    {
     "data": {
      "text/plain": [
       "2013-08-15    2668\n",
       "2013-08-29    2302\n",
       "2013-07-17    2202\n",
       "2011-09-07    2114\n",
       "2013-07-25    1607\n",
       "2013-08-22    1587\n",
       "2013-08-08    1195\n",
       "2013-09-05     924\n",
       "2013-08-16     141\n",
       "2011-08-29      95\n",
       "Name: Date, dtype: int64"
      ]
     },
     "execution_count": 108,
     "metadata": {},
     "output_type": "execute_result"
    }
   ],
   "source": [
    "spray.Date.value_counts()"
   ]
  },
  {
   "cell_type": "code",
   "execution_count": 109,
   "metadata": {},
   "outputs": [],
   "source": [
    "spray.Time = spray.Time.map(lambda x: '0' + x if len(str(x))==10 else x)"
   ]
  },
  {
   "cell_type": "code",
   "execution_count": 110,
   "metadata": {},
   "outputs": [],
   "source": [
    "spray.sort_values('Time', ascending=False);"
   ]
  },
  {
   "cell_type": "code",
   "execution_count": 111,
   "metadata": {},
   "outputs": [
    {
     "data": {
      "text/plain": [
       "14834   2013-09-05\n",
       "14226   2013-09-05\n",
       "14224   2013-09-05\n",
       "14223   2013-09-05\n",
       "14222   2013-09-05\n",
       "Name: Date, dtype: datetime64[ns]"
      ]
     },
     "execution_count": 111,
     "metadata": {},
     "output_type": "execute_result"
    }
   ],
   "source": [
    "spray.Date.sort_values(ascending = False).head()"
   ]
  },
  {
   "cell_type": "code",
   "execution_count": 112,
   "metadata": {},
   "outputs": [],
   "source": [
    "spray.Time.value_counts();"
   ]
  },
  {
   "cell_type": "code",
   "execution_count": null,
   "metadata": {},
   "outputs": [],
   "source": []
  },
  {
   "cell_type": "code",
   "execution_count": 113,
   "metadata": {},
   "outputs": [],
   "source": [
    "# spray['year'] = spray.Date.str[:4]\n",
    "# spray['month'] = spray.Date.str[5:7]\n",
    "# spray['day'] = spray.Date.str[-2:]"
   ]
  },
  {
   "cell_type": "markdown",
   "metadata": {},
   "source": [
    "# Feature Engineering:\n",
    "\n",
    "------------"
   ]
  },
  {
   "cell_type": "code",
   "execution_count": 114,
   "metadata": {},
   "outputs": [
    {
     "data": {
      "text/plain": [
       "0    False\n",
       "1    False\n",
       "2    False\n",
       "3    False\n",
       "4    False\n",
       "dtype: bool"
      ]
     },
     "execution_count": 114,
     "metadata": {},
     "output_type": "execute_result"
    }
   ],
   "source": [
    "train[['Trap', 'Date', 'Species']].duplicated().head()"
   ]
  },
  {
   "cell_type": "code",
   "execution_count": 115,
   "metadata": {},
   "outputs": [],
   "source": [
    "cols = [col for col in train.columns if col not in ['NumMosquitos', 'WnvPresent']]\n",
    "train = train.groupby(cols, as_index=False).sum()\n",
    "train['WnvPresent'] = (train.WnvPresent>0).astype(int)"
   ]
  },
  {
   "cell_type": "code",
   "execution_count": 116,
   "metadata": {},
   "outputs": [],
   "source": [
    "dfll = train.groupby(['Latitude', 'Longitude'],as_index=False).mean().copy()"
   ]
  },
  {
   "cell_type": "code",
   "execution_count": 117,
   "metadata": {},
   "outputs": [
    {
     "data": {
      "text/html": [
       "<div>\n",
       "<style scoped>\n",
       "    .dataframe tbody tr th:only-of-type {\n",
       "        vertical-align: middle;\n",
       "    }\n",
       "\n",
       "    .dataframe tbody tr th {\n",
       "        vertical-align: top;\n",
       "    }\n",
       "\n",
       "    .dataframe thead th {\n",
       "        text-align: right;\n",
       "    }\n",
       "</style>\n",
       "<table border=\"1\" class=\"dataframe\">\n",
       "  <thead>\n",
       "    <tr style=\"text-align: right;\">\n",
       "      <th></th>\n",
       "      <th>Latitude</th>\n",
       "      <th>Longitude</th>\n",
       "      <th>Block</th>\n",
       "      <th>AddressAccuracy</th>\n",
       "      <th>NumMosquitos</th>\n",
       "      <th>WnvPresent</th>\n",
       "    </tr>\n",
       "  </thead>\n",
       "  <tbody>\n",
       "    <tr>\n",
       "      <th>0</th>\n",
       "      <td>41.644612</td>\n",
       "      <td>-87.604498</td>\n",
       "      <td>82.0</td>\n",
       "      <td>5.0</td>\n",
       "      <td>8.600000</td>\n",
       "      <td>0.066667</td>\n",
       "    </tr>\n",
       "    <tr>\n",
       "      <th>1</th>\n",
       "      <td>41.659112</td>\n",
       "      <td>-87.538693</td>\n",
       "      <td>40.0</td>\n",
       "      <td>8.0</td>\n",
       "      <td>18.467391</td>\n",
       "      <td>0.076087</td>\n",
       "    </tr>\n",
       "    <tr>\n",
       "      <th>2</th>\n",
       "      <td>41.662014</td>\n",
       "      <td>-87.724608</td>\n",
       "      <td>42.0</td>\n",
       "      <td>8.0</td>\n",
       "      <td>21.238095</td>\n",
       "      <td>0.054422</td>\n",
       "    </tr>\n",
       "    <tr>\n",
       "      <th>3</th>\n",
       "      <td>41.673408</td>\n",
       "      <td>-87.599862</td>\n",
       "      <td>12.0</td>\n",
       "      <td>5.0</td>\n",
       "      <td>151.524476</td>\n",
       "      <td>0.104895</td>\n",
       "    </tr>\n",
       "    <tr>\n",
       "      <th>4</th>\n",
       "      <td>41.678618</td>\n",
       "      <td>-87.559308</td>\n",
       "      <td>13.0</td>\n",
       "      <td>5.0</td>\n",
       "      <td>13.680000</td>\n",
       "      <td>0.010000</td>\n",
       "    </tr>\n",
       "  </tbody>\n",
       "</table>\n",
       "</div>"
      ],
      "text/plain": [
       "    Latitude  Longitude  Block  AddressAccuracy  NumMosquitos  WnvPresent\n",
       "0  41.644612 -87.604498   82.0              5.0      8.600000    0.066667\n",
       "1  41.659112 -87.538693   40.0              8.0     18.467391    0.076087\n",
       "2  41.662014 -87.724608   42.0              8.0     21.238095    0.054422\n",
       "3  41.673408 -87.599862   12.0              5.0    151.524476    0.104895\n",
       "4  41.678618 -87.559308   13.0              5.0     13.680000    0.010000"
      ]
     },
     "execution_count": 117,
     "metadata": {},
     "output_type": "execute_result"
    }
   ],
   "source": [
    "dfll.head()"
   ]
  },
  {
   "cell_type": "code",
   "execution_count": 118,
   "metadata": {},
   "outputs": [
    {
     "name": "stdout",
     "output_type": "stream",
     "text": [
      "<class 'pandas.core.frame.DataFrame'>\n",
      "Int64Index: 138 entries, 0 to 137\n",
      "Data columns (total 6 columns):\n",
      "Latitude           138 non-null float64\n",
      "Longitude          138 non-null float64\n",
      "Block              138 non-null float64\n",
      "AddressAccuracy    138 non-null float64\n",
      "NumMosquitos       138 non-null float64\n",
      "WnvPresent         138 non-null float64\n",
      "dtypes: float64(6)\n",
      "memory usage: 7.5 KB\n"
     ]
    }
   ],
   "source": [
    "dfll.info()"
   ]
  },
  {
   "cell_type": "code",
   "execution_count": 119,
   "metadata": {},
   "outputs": [
    {
     "data": {
      "text/plain": [
       "'41.644612, -87.60449799999999'"
      ]
     },
     "execution_count": 119,
     "metadata": {},
     "output_type": "execute_result"
    }
   ],
   "source": [
    "str(dfll.Latitude[0])+ ', '+ str(dfll.Longitude[0])"
   ]
  },
  {
   "cell_type": "code",
   "execution_count": 120,
   "metadata": {},
   "outputs": [],
   "source": [
    "dfll['Coor'] = dfll.apply(lambda x: str(x.Latitude) +', ' + str(x.Longitude), axis=1)"
   ]
  },
  {
   "cell_type": "code",
   "execution_count": 121,
   "metadata": {},
   "outputs": [
    {
     "data": {
      "text/html": [
       "<div>\n",
       "<style scoped>\n",
       "    .dataframe tbody tr th:only-of-type {\n",
       "        vertical-align: middle;\n",
       "    }\n",
       "\n",
       "    .dataframe tbody tr th {\n",
       "        vertical-align: top;\n",
       "    }\n",
       "\n",
       "    .dataframe thead th {\n",
       "        text-align: right;\n",
       "    }\n",
       "</style>\n",
       "<table border=\"1\" class=\"dataframe\">\n",
       "  <thead>\n",
       "    <tr style=\"text-align: right;\">\n",
       "      <th></th>\n",
       "      <th>Latitude</th>\n",
       "      <th>Longitude</th>\n",
       "      <th>Block</th>\n",
       "      <th>AddressAccuracy</th>\n",
       "      <th>NumMosquitos</th>\n",
       "      <th>WnvPresent</th>\n",
       "      <th>Coor</th>\n",
       "    </tr>\n",
       "  </thead>\n",
       "  <tbody>\n",
       "    <tr>\n",
       "      <th>0</th>\n",
       "      <td>41.644612</td>\n",
       "      <td>-87.604498</td>\n",
       "      <td>82.0</td>\n",
       "      <td>5.0</td>\n",
       "      <td>8.600000</td>\n",
       "      <td>0.066667</td>\n",
       "      <td>41.644612, -87.60449799999999</td>\n",
       "    </tr>\n",
       "    <tr>\n",
       "      <th>1</th>\n",
       "      <td>41.659112</td>\n",
       "      <td>-87.538693</td>\n",
       "      <td>40.0</td>\n",
       "      <td>8.0</td>\n",
       "      <td>18.467391</td>\n",
       "      <td>0.076087</td>\n",
       "      <td>41.659112, -87.53869300000001</td>\n",
       "    </tr>\n",
       "    <tr>\n",
       "      <th>2</th>\n",
       "      <td>41.662014</td>\n",
       "      <td>-87.724608</td>\n",
       "      <td>42.0</td>\n",
       "      <td>8.0</td>\n",
       "      <td>21.238095</td>\n",
       "      <td>0.054422</td>\n",
       "      <td>41.662014, -87.72460799999999</td>\n",
       "    </tr>\n",
       "    <tr>\n",
       "      <th>3</th>\n",
       "      <td>41.673408</td>\n",
       "      <td>-87.599862</td>\n",
       "      <td>12.0</td>\n",
       "      <td>5.0</td>\n",
       "      <td>151.524476</td>\n",
       "      <td>0.104895</td>\n",
       "      <td>41.673408, -87.599862</td>\n",
       "    </tr>\n",
       "    <tr>\n",
       "      <th>4</th>\n",
       "      <td>41.678618</td>\n",
       "      <td>-87.559308</td>\n",
       "      <td>13.0</td>\n",
       "      <td>5.0</td>\n",
       "      <td>13.680000</td>\n",
       "      <td>0.010000</td>\n",
       "      <td>41.678618, -87.559308</td>\n",
       "    </tr>\n",
       "  </tbody>\n",
       "</table>\n",
       "</div>"
      ],
      "text/plain": [
       "    Latitude  Longitude  Block  AddressAccuracy  NumMosquitos  WnvPresent  \\\n",
       "0  41.644612 -87.604498   82.0              5.0      8.600000    0.066667   \n",
       "1  41.659112 -87.538693   40.0              8.0     18.467391    0.076087   \n",
       "2  41.662014 -87.724608   42.0              8.0     21.238095    0.054422   \n",
       "3  41.673408 -87.599862   12.0              5.0    151.524476    0.104895   \n",
       "4  41.678618 -87.559308   13.0              5.0     13.680000    0.010000   \n",
       "\n",
       "                            Coor  \n",
       "0  41.644612, -87.60449799999999  \n",
       "1  41.659112, -87.53869300000001  \n",
       "2  41.662014, -87.72460799999999  \n",
       "3          41.673408, -87.599862  \n",
       "4          41.678618, -87.559308  "
      ]
     },
     "execution_count": 121,
     "metadata": {},
     "output_type": "execute_result"
    }
   ],
   "source": [
    "dfll.head()"
   ]
  },
  {
   "cell_type": "code",
   "execution_count": null,
   "metadata": {},
   "outputs": [],
   "source": []
  },
  {
   "cell_type": "code",
   "execution_count": null,
   "metadata": {},
   "outputs": [],
   "source": []
  },
  {
   "cell_type": "code",
   "execution_count": null,
   "metadata": {},
   "outputs": [],
   "source": []
  },
  {
   "cell_type": "code",
   "execution_count": null,
   "metadata": {},
   "outputs": [],
   "source": []
  },
  {
   "cell_type": "code",
   "execution_count": null,
   "metadata": {},
   "outputs": [],
   "source": []
  },
  {
   "cell_type": "code",
   "execution_count": null,
   "metadata": {},
   "outputs": [],
   "source": []
  },
  {
   "cell_type": "code",
   "execution_count": 122,
   "metadata": {},
   "outputs": [],
   "source": [
    "#!pip install geopy"
   ]
  },
  {
   "cell_type": "code",
   "execution_count": null,
   "metadata": {},
   "outputs": [],
   "source": []
  },
  {
   "cell_type": "code",
   "execution_count": 123,
   "metadata": {},
   "outputs": [],
   "source": [
    "import geopy.distance"
   ]
  },
  {
   "cell_type": "code",
   "execution_count": 124,
   "metadata": {},
   "outputs": [],
   "source": [
    "#geopy.distance.vincenty(dfll.Coor).miles"
   ]
  },
  {
   "cell_type": "code",
   "execution_count": null,
   "metadata": {},
   "outputs": [],
   "source": []
  },
  {
   "cell_type": "code",
   "execution_count": null,
   "metadata": {},
   "outputs": [],
   "source": []
  },
  {
   "cell_type": "code",
   "execution_count": null,
   "metadata": {},
   "outputs": [],
   "source": []
  },
  {
   "cell_type": "code",
   "execution_count": null,
   "metadata": {},
   "outputs": [],
   "source": []
  },
  {
   "cell_type": "code",
   "execution_count": null,
   "metadata": {},
   "outputs": [],
   "source": []
  },
  {
   "cell_type": "code",
   "execution_count": null,
   "metadata": {},
   "outputs": [],
   "source": []
  },
  {
   "cell_type": "code",
   "execution_count": null,
   "metadata": {},
   "outputs": [],
   "source": []
  },
  {
   "cell_type": "markdown",
   "metadata": {},
   "source": []
  },
  {
   "cell_type": "code",
   "execution_count": null,
   "metadata": {},
   "outputs": [],
   "source": []
  }
 ],
 "metadata": {
  "kernelspec": {
   "display_name": "Python 3",
   "language": "python",
   "name": "python3"
  },
  "language_info": {
   "codemirror_mode": {
    "name": "ipython",
    "version": 3
   },
   "file_extension": ".py",
   "mimetype": "text/x-python",
   "name": "python",
   "nbconvert_exporter": "python",
   "pygments_lexer": "ipython3",
   "version": "3.6.4"
  }
 },
 "nbformat": 4,
 "nbformat_minor": 2
}
